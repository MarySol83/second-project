{
 "cells": [
  {
   "cell_type": "code",
   "execution_count": null,
   "metadata": {},
   "outputs": [],
   "source": []
  },
  {
   "cell_type": "markdown",
   "metadata": {
    "toc": true
   },
   "source": [
    "<h1>Содержание<span class=\"tocSkip\"></span></h1>\n",
    "<div class=\"toc\"><ul class=\"toc-item\"><li><span><a href=\"#Подготовка-данных\" data-toc-modified-id=\"Подготовка-данных-1\"><span class=\"toc-item-num\">1&nbsp;&nbsp;</span>Подготовка данных</a></span></li><li><span><a href=\"#Исследование-задачи\" data-toc-modified-id=\"Исследование-задачи-2\"><span class=\"toc-item-num\">2&nbsp;&nbsp;</span>Исследование задачи</a></span><ul class=\"toc-item\"><li><span><a href=\"#Проверка-на-наличие-дисбаланса\" data-toc-modified-id=\"Проверка-на-наличие-дисбаланса-2.1\"><span class=\"toc-item-num\">2.1&nbsp;&nbsp;</span>Проверка на наличие дисбаланса</a></span></li><li><span><a href=\"#Проверка-моделей-без-учета-дисбаланса.\" data-toc-modified-id=\"Проверка-моделей-без-учета-дисбаланса.-2.2\"><span class=\"toc-item-num\">2.2&nbsp;&nbsp;</span>Проверка моделей без учета дисбаланса.</a></span></li></ul></li><li><span><a href=\"#Борьба-с-дисбалансом\" data-toc-modified-id=\"Борьба-с-дисбалансом-3\"><span class=\"toc-item-num\">3&nbsp;&nbsp;</span>Борьба с дисбалансом</a></span><ul class=\"toc-item\"><li><span><a href=\"#Взвешивание-классов\" data-toc-modified-id=\"Взвешивание-классов-3.1\"><span class=\"toc-item-num\">3.1&nbsp;&nbsp;</span>Взвешивание классов</a></span></li><li><span><a href=\"#Уменьшение-выборки\" data-toc-modified-id=\"Уменьшение-выборки-3.2\"><span class=\"toc-item-num\">3.2&nbsp;&nbsp;</span>Уменьшение выборки</a></span></li><li><span><a href=\"#Увеличение-выборки\" data-toc-modified-id=\"Увеличение-выборки-3.3\"><span class=\"toc-item-num\">3.3&nbsp;&nbsp;</span>Увеличение выборки</a></span></li></ul></li><li><span><a href=\"#Тестирование-модели\" data-toc-modified-id=\"Тестирование-модели-4\"><span class=\"toc-item-num\">4&nbsp;&nbsp;</span>Тестирование модели</a></span></li><li><span><a href=\"#Финальный-вывод\" data-toc-modified-id=\"Финальный-вывод-5\"><span class=\"toc-item-num\">5&nbsp;&nbsp;</span>Финальный вывод</a></span></li><li><span><a href=\"#Чек-лист-готовности-проекта\" data-toc-modified-id=\"Чек-лист-готовности-проекта-6\"><span class=\"toc-item-num\">6&nbsp;&nbsp;</span>Чек-лист готовности проекта</a></span></li></ul></div>"
   ]
  },
  {
   "cell_type": "markdown",
   "metadata": {},
   "source": [
    "# Отток клиентов"
   ]
  },
  {
   "cell_type": "markdown",
   "metadata": {},
   "source": [
    "Из «Бета-Банка» стали уходить клиенты. Каждый месяц. Немного, но заметно. Банковские маркетологи посчитали: сохранять текущих клиентов дешевле, чем привлекать новых.\n",
    "\n",
    "Нужно спрогнозировать, уйдёт клиент из банка в ближайшее время или нет. Нам предоставлены исторические данные о поведении клиентов и расторжении договоров с банком. Обучим разные модели классификации и найдем лучшую.\n",
    "\n",
    "Построим модель с предельно большим значением *F1*-меры. \n",
    "\n",
    "Дополнительно измерим *AUC-ROC*, сравним её значение с *F1*-мерой.\n",
    "\n",
    "Источник данных: [https://www.kaggle.com/barelydedicated/bank-customer-churn-modeling](https://www.kaggle.com/barelydedicated/bank-customer-churn-modeling)"
   ]
  },
  {
   "cell_type": "markdown",
   "metadata": {},
   "source": [
    "## Подготовка данных"
   ]
  },
  {
   "cell_type": "code",
   "execution_count": 38,
   "metadata": {},
   "outputs": [],
   "source": [
    "import pandas as pd\n",
    "import numpy as np\n",
    "import matplotlib.pyplot as plt\n",
    "import seaborn as sns\n",
    "import statsmodels.api as sm\n",
    "from tqdm import tqdm\n",
    "import scipy\n",
    "import math\n",
    "import time\n",
    "from sklearn.linear_model import LogisticRegression\n",
    "from sklearn.tree import DecisionTreeClassifier\n",
    "from sklearn.ensemble import RandomForestClassifier\n",
    "from sklearn.tree import DecisionTreeRegressor\n",
    "from sklearn.ensemble import RandomForestRegressor\n",
    "from sklearn.linear_model import LinearRegression\n",
    "from sklearn.model_selection import train_test_split\n",
    "from sklearn.metrics import plot_confusion_matrix\n",
    "from sklearn.metrics import f1_score\n",
    "from sklearn.metrics import mean_squared_error\n",
    "from sklearn.metrics import mean_absolute_error\n",
    "from sklearn.preprocessing import StandardScaler\n",
    "from sklearn.metrics import accuracy_score\n",
    "from sklearn.metrics import recall_score\n",
    "from sklearn.metrics import precision_score\n",
    "from sklearn.utils import shuffle\n",
    "from sklearn.metrics import precision_recall_curve\n",
    "from sklearn.metrics import roc_curve\n",
    "from sklearn.metrics import roc_auc_score\n",
    "from sklearn.metrics import r2_score\n",
    "from sklearn.preprocessing import OneHotEncoder\n",
    "import warnings\n",
    "warnings.filterwarnings(\"ignore\")"
   ]
  },
  {
   "cell_type": "code",
   "execution_count": 39,
   "metadata": {},
   "outputs": [],
   "source": [
    "df = pd.read_csv('https://code.s3.yandex.net/datasets/Churn.csv')"
   ]
  },
  {
   "cell_type": "code",
   "execution_count": 40,
   "metadata": {},
   "outputs": [
    {
     "data": {
      "text/html": [
       "<div>\n",
       "<style scoped>\n",
       "    .dataframe tbody tr th:only-of-type {\n",
       "        vertical-align: middle;\n",
       "    }\n",
       "\n",
       "    .dataframe tbody tr th {\n",
       "        vertical-align: top;\n",
       "    }\n",
       "\n",
       "    .dataframe thead th {\n",
       "        text-align: right;\n",
       "    }\n",
       "</style>\n",
       "<table border=\"1\" class=\"dataframe\">\n",
       "  <thead>\n",
       "    <tr style=\"text-align: right;\">\n",
       "      <th></th>\n",
       "      <th>RowNumber</th>\n",
       "      <th>CustomerId</th>\n",
       "      <th>Surname</th>\n",
       "      <th>CreditScore</th>\n",
       "      <th>Geography</th>\n",
       "      <th>Gender</th>\n",
       "      <th>Age</th>\n",
       "      <th>Tenure</th>\n",
       "      <th>Balance</th>\n",
       "      <th>NumOfProducts</th>\n",
       "      <th>HasCrCard</th>\n",
       "      <th>IsActiveMember</th>\n",
       "      <th>EstimatedSalary</th>\n",
       "      <th>Exited</th>\n",
       "    </tr>\n",
       "  </thead>\n",
       "  <tbody>\n",
       "    <tr>\n",
       "      <th>0</th>\n",
       "      <td>1</td>\n",
       "      <td>15634602</td>\n",
       "      <td>Hargrave</td>\n",
       "      <td>619</td>\n",
       "      <td>France</td>\n",
       "      <td>Female</td>\n",
       "      <td>42</td>\n",
       "      <td>2.0</td>\n",
       "      <td>0.00</td>\n",
       "      <td>1</td>\n",
       "      <td>1</td>\n",
       "      <td>1</td>\n",
       "      <td>101348.88</td>\n",
       "      <td>1</td>\n",
       "    </tr>\n",
       "    <tr>\n",
       "      <th>1</th>\n",
       "      <td>2</td>\n",
       "      <td>15647311</td>\n",
       "      <td>Hill</td>\n",
       "      <td>608</td>\n",
       "      <td>Spain</td>\n",
       "      <td>Female</td>\n",
       "      <td>41</td>\n",
       "      <td>1.0</td>\n",
       "      <td>83807.86</td>\n",
       "      <td>1</td>\n",
       "      <td>0</td>\n",
       "      <td>1</td>\n",
       "      <td>112542.58</td>\n",
       "      <td>0</td>\n",
       "    </tr>\n",
       "    <tr>\n",
       "      <th>2</th>\n",
       "      <td>3</td>\n",
       "      <td>15619304</td>\n",
       "      <td>Onio</td>\n",
       "      <td>502</td>\n",
       "      <td>France</td>\n",
       "      <td>Female</td>\n",
       "      <td>42</td>\n",
       "      <td>8.0</td>\n",
       "      <td>159660.80</td>\n",
       "      <td>3</td>\n",
       "      <td>1</td>\n",
       "      <td>0</td>\n",
       "      <td>113931.57</td>\n",
       "      <td>1</td>\n",
       "    </tr>\n",
       "    <tr>\n",
       "      <th>3</th>\n",
       "      <td>4</td>\n",
       "      <td>15701354</td>\n",
       "      <td>Boni</td>\n",
       "      <td>699</td>\n",
       "      <td>France</td>\n",
       "      <td>Female</td>\n",
       "      <td>39</td>\n",
       "      <td>1.0</td>\n",
       "      <td>0.00</td>\n",
       "      <td>2</td>\n",
       "      <td>0</td>\n",
       "      <td>0</td>\n",
       "      <td>93826.63</td>\n",
       "      <td>0</td>\n",
       "    </tr>\n",
       "    <tr>\n",
       "      <th>4</th>\n",
       "      <td>5</td>\n",
       "      <td>15737888</td>\n",
       "      <td>Mitchell</td>\n",
       "      <td>850</td>\n",
       "      <td>Spain</td>\n",
       "      <td>Female</td>\n",
       "      <td>43</td>\n",
       "      <td>2.0</td>\n",
       "      <td>125510.82</td>\n",
       "      <td>1</td>\n",
       "      <td>1</td>\n",
       "      <td>1</td>\n",
       "      <td>79084.10</td>\n",
       "      <td>0</td>\n",
       "    </tr>\n",
       "    <tr>\n",
       "      <th>5</th>\n",
       "      <td>6</td>\n",
       "      <td>15574012</td>\n",
       "      <td>Chu</td>\n",
       "      <td>645</td>\n",
       "      <td>Spain</td>\n",
       "      <td>Male</td>\n",
       "      <td>44</td>\n",
       "      <td>8.0</td>\n",
       "      <td>113755.78</td>\n",
       "      <td>2</td>\n",
       "      <td>1</td>\n",
       "      <td>0</td>\n",
       "      <td>149756.71</td>\n",
       "      <td>1</td>\n",
       "    </tr>\n",
       "    <tr>\n",
       "      <th>6</th>\n",
       "      <td>7</td>\n",
       "      <td>15592531</td>\n",
       "      <td>Bartlett</td>\n",
       "      <td>822</td>\n",
       "      <td>France</td>\n",
       "      <td>Male</td>\n",
       "      <td>50</td>\n",
       "      <td>7.0</td>\n",
       "      <td>0.00</td>\n",
       "      <td>2</td>\n",
       "      <td>1</td>\n",
       "      <td>1</td>\n",
       "      <td>10062.80</td>\n",
       "      <td>0</td>\n",
       "    </tr>\n",
       "    <tr>\n",
       "      <th>7</th>\n",
       "      <td>8</td>\n",
       "      <td>15656148</td>\n",
       "      <td>Obinna</td>\n",
       "      <td>376</td>\n",
       "      <td>Germany</td>\n",
       "      <td>Female</td>\n",
       "      <td>29</td>\n",
       "      <td>4.0</td>\n",
       "      <td>115046.74</td>\n",
       "      <td>4</td>\n",
       "      <td>1</td>\n",
       "      <td>0</td>\n",
       "      <td>119346.88</td>\n",
       "      <td>1</td>\n",
       "    </tr>\n",
       "    <tr>\n",
       "      <th>8</th>\n",
       "      <td>9</td>\n",
       "      <td>15792365</td>\n",
       "      <td>He</td>\n",
       "      <td>501</td>\n",
       "      <td>France</td>\n",
       "      <td>Male</td>\n",
       "      <td>44</td>\n",
       "      <td>4.0</td>\n",
       "      <td>142051.07</td>\n",
       "      <td>2</td>\n",
       "      <td>0</td>\n",
       "      <td>1</td>\n",
       "      <td>74940.50</td>\n",
       "      <td>0</td>\n",
       "    </tr>\n",
       "    <tr>\n",
       "      <th>9</th>\n",
       "      <td>10</td>\n",
       "      <td>15592389</td>\n",
       "      <td>H?</td>\n",
       "      <td>684</td>\n",
       "      <td>France</td>\n",
       "      <td>Male</td>\n",
       "      <td>27</td>\n",
       "      <td>2.0</td>\n",
       "      <td>134603.88</td>\n",
       "      <td>1</td>\n",
       "      <td>1</td>\n",
       "      <td>1</td>\n",
       "      <td>71725.73</td>\n",
       "      <td>0</td>\n",
       "    </tr>\n",
       "  </tbody>\n",
       "</table>\n",
       "</div>"
      ],
      "text/plain": [
       "   RowNumber  CustomerId   Surname  CreditScore Geography  Gender  Age  \\\n",
       "0          1    15634602  Hargrave          619    France  Female   42   \n",
       "1          2    15647311      Hill          608     Spain  Female   41   \n",
       "2          3    15619304      Onio          502    France  Female   42   \n",
       "3          4    15701354      Boni          699    France  Female   39   \n",
       "4          5    15737888  Mitchell          850     Spain  Female   43   \n",
       "5          6    15574012       Chu          645     Spain    Male   44   \n",
       "6          7    15592531  Bartlett          822    France    Male   50   \n",
       "7          8    15656148    Obinna          376   Germany  Female   29   \n",
       "8          9    15792365        He          501    France    Male   44   \n",
       "9         10    15592389        H?          684    France    Male   27   \n",
       "\n",
       "   Tenure    Balance  NumOfProducts  HasCrCard  IsActiveMember  \\\n",
       "0     2.0       0.00              1          1               1   \n",
       "1     1.0   83807.86              1          0               1   \n",
       "2     8.0  159660.80              3          1               0   \n",
       "3     1.0       0.00              2          0               0   \n",
       "4     2.0  125510.82              1          1               1   \n",
       "5     8.0  113755.78              2          1               0   \n",
       "6     7.0       0.00              2          1               1   \n",
       "7     4.0  115046.74              4          1               0   \n",
       "8     4.0  142051.07              2          0               1   \n",
       "9     2.0  134603.88              1          1               1   \n",
       "\n",
       "   EstimatedSalary  Exited  \n",
       "0        101348.88       1  \n",
       "1        112542.58       0  \n",
       "2        113931.57       1  \n",
       "3         93826.63       0  \n",
       "4         79084.10       0  \n",
       "5        149756.71       1  \n",
       "6         10062.80       0  \n",
       "7        119346.88       1  \n",
       "8         74940.50       0  \n",
       "9         71725.73       0  "
      ]
     },
     "execution_count": 40,
     "metadata": {},
     "output_type": "execute_result"
    }
   ],
   "source": [
    "df.head(10)"
   ]
  },
  {
   "cell_type": "markdown",
   "metadata": {},
   "source": [
    "Посмотрим на информацию, содержащуюся в датасете."
   ]
  },
  {
   "cell_type": "code",
   "execution_count": 41,
   "metadata": {},
   "outputs": [
    {
     "name": "stdout",
     "output_type": "stream",
     "text": [
      "<class 'pandas.core.frame.DataFrame'>\n",
      "RangeIndex: 10000 entries, 0 to 9999\n",
      "Data columns (total 14 columns):\n",
      " #   Column           Non-Null Count  Dtype  \n",
      "---  ------           --------------  -----  \n",
      " 0   RowNumber        10000 non-null  int64  \n",
      " 1   CustomerId       10000 non-null  int64  \n",
      " 2   Surname          10000 non-null  object \n",
      " 3   CreditScore      10000 non-null  int64  \n",
      " 4   Geography        10000 non-null  object \n",
      " 5   Gender           10000 non-null  object \n",
      " 6   Age              10000 non-null  int64  \n",
      " 7   Tenure           9091 non-null   float64\n",
      " 8   Balance          10000 non-null  float64\n",
      " 9   NumOfProducts    10000 non-null  int64  \n",
      " 10  HasCrCard        10000 non-null  int64  \n",
      " 11  IsActiveMember   10000 non-null  int64  \n",
      " 12  EstimatedSalary  10000 non-null  float64\n",
      " 13  Exited           10000 non-null  int64  \n",
      "dtypes: float64(3), int64(8), object(3)\n",
      "memory usage: 1.1+ MB\n"
     ]
    }
   ],
   "source": [
    "df.info()"
   ]
  },
  {
   "cell_type": "code",
   "execution_count": 42,
   "metadata": {},
   "outputs": [
    {
     "data": {
      "text/html": [
       "<div>\n",
       "<style scoped>\n",
       "    .dataframe tbody tr th:only-of-type {\n",
       "        vertical-align: middle;\n",
       "    }\n",
       "\n",
       "    .dataframe tbody tr th {\n",
       "        vertical-align: top;\n",
       "    }\n",
       "\n",
       "    .dataframe thead th {\n",
       "        text-align: right;\n",
       "    }\n",
       "</style>\n",
       "<table border=\"1\" class=\"dataframe\">\n",
       "  <thead>\n",
       "    <tr style=\"text-align: right;\">\n",
       "      <th></th>\n",
       "      <th>RowNumber</th>\n",
       "      <th>CustomerId</th>\n",
       "      <th>CreditScore</th>\n",
       "      <th>Age</th>\n",
       "      <th>Tenure</th>\n",
       "      <th>Balance</th>\n",
       "      <th>NumOfProducts</th>\n",
       "      <th>HasCrCard</th>\n",
       "      <th>IsActiveMember</th>\n",
       "      <th>EstimatedSalary</th>\n",
       "      <th>Exited</th>\n",
       "    </tr>\n",
       "  </thead>\n",
       "  <tbody>\n",
       "    <tr>\n",
       "      <th>count</th>\n",
       "      <td>10000.00000</td>\n",
       "      <td>1.000000e+04</td>\n",
       "      <td>10000.000000</td>\n",
       "      <td>10000.000000</td>\n",
       "      <td>9091.000000</td>\n",
       "      <td>10000.000000</td>\n",
       "      <td>10000.000000</td>\n",
       "      <td>10000.00000</td>\n",
       "      <td>10000.000000</td>\n",
       "      <td>10000.000000</td>\n",
       "      <td>10000.000000</td>\n",
       "    </tr>\n",
       "    <tr>\n",
       "      <th>mean</th>\n",
       "      <td>5000.50000</td>\n",
       "      <td>1.569094e+07</td>\n",
       "      <td>650.528800</td>\n",
       "      <td>38.921800</td>\n",
       "      <td>4.997690</td>\n",
       "      <td>76485.889288</td>\n",
       "      <td>1.530200</td>\n",
       "      <td>0.70550</td>\n",
       "      <td>0.515100</td>\n",
       "      <td>100090.239881</td>\n",
       "      <td>0.203700</td>\n",
       "    </tr>\n",
       "    <tr>\n",
       "      <th>std</th>\n",
       "      <td>2886.89568</td>\n",
       "      <td>7.193619e+04</td>\n",
       "      <td>96.653299</td>\n",
       "      <td>10.487806</td>\n",
       "      <td>2.894723</td>\n",
       "      <td>62397.405202</td>\n",
       "      <td>0.581654</td>\n",
       "      <td>0.45584</td>\n",
       "      <td>0.499797</td>\n",
       "      <td>57510.492818</td>\n",
       "      <td>0.402769</td>\n",
       "    </tr>\n",
       "    <tr>\n",
       "      <th>min</th>\n",
       "      <td>1.00000</td>\n",
       "      <td>1.556570e+07</td>\n",
       "      <td>350.000000</td>\n",
       "      <td>18.000000</td>\n",
       "      <td>0.000000</td>\n",
       "      <td>0.000000</td>\n",
       "      <td>1.000000</td>\n",
       "      <td>0.00000</td>\n",
       "      <td>0.000000</td>\n",
       "      <td>11.580000</td>\n",
       "      <td>0.000000</td>\n",
       "    </tr>\n",
       "    <tr>\n",
       "      <th>25%</th>\n",
       "      <td>2500.75000</td>\n",
       "      <td>1.562853e+07</td>\n",
       "      <td>584.000000</td>\n",
       "      <td>32.000000</td>\n",
       "      <td>2.000000</td>\n",
       "      <td>0.000000</td>\n",
       "      <td>1.000000</td>\n",
       "      <td>0.00000</td>\n",
       "      <td>0.000000</td>\n",
       "      <td>51002.110000</td>\n",
       "      <td>0.000000</td>\n",
       "    </tr>\n",
       "    <tr>\n",
       "      <th>50%</th>\n",
       "      <td>5000.50000</td>\n",
       "      <td>1.569074e+07</td>\n",
       "      <td>652.000000</td>\n",
       "      <td>37.000000</td>\n",
       "      <td>5.000000</td>\n",
       "      <td>97198.540000</td>\n",
       "      <td>1.000000</td>\n",
       "      <td>1.00000</td>\n",
       "      <td>1.000000</td>\n",
       "      <td>100193.915000</td>\n",
       "      <td>0.000000</td>\n",
       "    </tr>\n",
       "    <tr>\n",
       "      <th>75%</th>\n",
       "      <td>7500.25000</td>\n",
       "      <td>1.575323e+07</td>\n",
       "      <td>718.000000</td>\n",
       "      <td>44.000000</td>\n",
       "      <td>7.000000</td>\n",
       "      <td>127644.240000</td>\n",
       "      <td>2.000000</td>\n",
       "      <td>1.00000</td>\n",
       "      <td>1.000000</td>\n",
       "      <td>149388.247500</td>\n",
       "      <td>0.000000</td>\n",
       "    </tr>\n",
       "    <tr>\n",
       "      <th>max</th>\n",
       "      <td>10000.00000</td>\n",
       "      <td>1.581569e+07</td>\n",
       "      <td>850.000000</td>\n",
       "      <td>92.000000</td>\n",
       "      <td>10.000000</td>\n",
       "      <td>250898.090000</td>\n",
       "      <td>4.000000</td>\n",
       "      <td>1.00000</td>\n",
       "      <td>1.000000</td>\n",
       "      <td>199992.480000</td>\n",
       "      <td>1.000000</td>\n",
       "    </tr>\n",
       "  </tbody>\n",
       "</table>\n",
       "</div>"
      ],
      "text/plain": [
       "         RowNumber    CustomerId   CreditScore           Age       Tenure  \\\n",
       "count  10000.00000  1.000000e+04  10000.000000  10000.000000  9091.000000   \n",
       "mean    5000.50000  1.569094e+07    650.528800     38.921800     4.997690   \n",
       "std     2886.89568  7.193619e+04     96.653299     10.487806     2.894723   \n",
       "min        1.00000  1.556570e+07    350.000000     18.000000     0.000000   \n",
       "25%     2500.75000  1.562853e+07    584.000000     32.000000     2.000000   \n",
       "50%     5000.50000  1.569074e+07    652.000000     37.000000     5.000000   \n",
       "75%     7500.25000  1.575323e+07    718.000000     44.000000     7.000000   \n",
       "max    10000.00000  1.581569e+07    850.000000     92.000000    10.000000   \n",
       "\n",
       "             Balance  NumOfProducts    HasCrCard  IsActiveMember  \\\n",
       "count   10000.000000   10000.000000  10000.00000    10000.000000   \n",
       "mean    76485.889288       1.530200      0.70550        0.515100   \n",
       "std     62397.405202       0.581654      0.45584        0.499797   \n",
       "min         0.000000       1.000000      0.00000        0.000000   \n",
       "25%         0.000000       1.000000      0.00000        0.000000   \n",
       "50%     97198.540000       1.000000      1.00000        1.000000   \n",
       "75%    127644.240000       2.000000      1.00000        1.000000   \n",
       "max    250898.090000       4.000000      1.00000        1.000000   \n",
       "\n",
       "       EstimatedSalary        Exited  \n",
       "count     10000.000000  10000.000000  \n",
       "mean     100090.239881      0.203700  \n",
       "std       57510.492818      0.402769  \n",
       "min          11.580000      0.000000  \n",
       "25%       51002.110000      0.000000  \n",
       "50%      100193.915000      0.000000  \n",
       "75%      149388.247500      0.000000  \n",
       "max      199992.480000      1.000000  "
      ]
     },
     "execution_count": 42,
     "metadata": {},
     "output_type": "execute_result"
    }
   ],
   "source": [
    "df.describe()"
   ]
  },
  {
   "cell_type": "code",
   "execution_count": 44,
   "metadata": {},
   "outputs": [
    {
     "data": {
      "text/plain": [
       "RowNumber            0\n",
       "CustomerId           0\n",
       "Surname              0\n",
       "CreditScore          0\n",
       "Geography            0\n",
       "Gender               0\n",
       "Age                  0\n",
       "Tenure             909\n",
       "Balance              0\n",
       "NumOfProducts        0\n",
       "HasCrCard            0\n",
       "IsActiveMember       0\n",
       "EstimatedSalary      0\n",
       "Exited               0\n",
       "dtype: int64"
      ]
     },
     "execution_count": 44,
     "metadata": {},
     "output_type": "execute_result"
    }
   ],
   "source": [
    "# проверим датасет на наличие пропусков в данных\n",
    "df.isna().sum()"
   ]
  },
  {
   "cell_type": "markdown",
   "metadata": {},
   "source": [
    "В столбце Tenure наблюдается 909 прорусков.\n",
    "Это менее 10% от данных, удалим эти пропуски."
   ]
  },
  {
   "cell_type": "code",
   "execution_count": 45,
   "metadata": {},
   "outputs": [],
   "source": [
    "df = df.dropna()"
   ]
  },
  {
   "cell_type": "code",
   "execution_count": 46,
   "metadata": {},
   "outputs": [
    {
     "data": {
      "text/plain": [
       "RowNumber          0\n",
       "CustomerId         0\n",
       "Surname            0\n",
       "CreditScore        0\n",
       "Geography          0\n",
       "Gender             0\n",
       "Age                0\n",
       "Tenure             0\n",
       "Balance            0\n",
       "NumOfProducts      0\n",
       "HasCrCard          0\n",
       "IsActiveMember     0\n",
       "EstimatedSalary    0\n",
       "Exited             0\n",
       "dtype: int64"
      ]
     },
     "execution_count": 46,
     "metadata": {},
     "output_type": "execute_result"
    }
   ],
   "source": [
    "# проверим все ли сработало корректно\n",
    "df.isna().sum()"
   ]
  },
  {
   "cell_type": "code",
   "execution_count": 47,
   "metadata": {},
   "outputs": [
    {
     "data": {
      "text/plain": [
       "0"
      ]
     },
     "execution_count": 47,
     "metadata": {},
     "output_type": "execute_result"
    }
   ],
   "source": [
    "#Проверим на дубликаты\n",
    "df.duplicated().sum()"
   ]
  },
  {
   "cell_type": "markdown",
   "metadata": {},
   "source": [
    "Exited - это целевой признак.\n",
    "\n",
    "Все остальные столбцы - это признаки, которые влияют на результат классификации.\n",
    "\n",
    "Посмотрев на основную информацию о признаках, можно сказать, что One-Hot Encoding и масштабирование нужно применить к нескольким признакам.\n",
    "\n",
    "Дополнительно проверим уникальные значения для категориальных признаков, чтобы убедиться в том, что OHE к ним применять имеет смысл."
   ]
  },
  {
   "cell_type": "code",
   "execution_count": 48,
   "metadata": {},
   "outputs": [
    {
     "data": {
      "text/plain": [
       "array(['Female', 'Male'], dtype=object)"
      ]
     },
     "execution_count": 48,
     "metadata": {},
     "output_type": "execute_result"
    }
   ],
   "source": [
    "df.Gender.unique()"
   ]
  },
  {
   "cell_type": "code",
   "execution_count": 49,
   "metadata": {},
   "outputs": [
    {
     "data": {
      "text/plain": [
       "array(['France', 'Spain', 'Germany'], dtype=object)"
      ]
     },
     "execution_count": 49,
     "metadata": {},
     "output_type": "execute_result"
    }
   ],
   "source": [
    "df.Geography.unique()"
   ]
  },
  {
   "cell_type": "markdown",
   "metadata": {},
   "source": [
    "OHE применим к столбцам Gender и Geography, масштабирование - к CreditScore, Balance и EstimatedSalary, так как мы не хотим, чтобы при обучении какой-то признак с более высоким значением был засчитан как более значимый."
   ]
  },
  {
   "cell_type": "code",
   "execution_count": 50,
   "metadata": {},
   "outputs": [],
   "source": [
    "# применяем ohe к 2 признакам\n",
    "df = pd.get_dummies(df, drop_first=True, columns=['Gender', 'Geography'])"
   ]
  },
  {
   "cell_type": "code",
   "execution_count": 52,
   "metadata": {},
   "outputs": [
    {
     "data": {
      "text/html": [
       "<div>\n",
       "<style scoped>\n",
       "    .dataframe tbody tr th:only-of-type {\n",
       "        vertical-align: middle;\n",
       "    }\n",
       "\n",
       "    .dataframe tbody tr th {\n",
       "        vertical-align: top;\n",
       "    }\n",
       "\n",
       "    .dataframe thead th {\n",
       "        text-align: right;\n",
       "    }\n",
       "</style>\n",
       "<table border=\"1\" class=\"dataframe\">\n",
       "  <thead>\n",
       "    <tr style=\"text-align: right;\">\n",
       "      <th></th>\n",
       "      <th>RowNumber</th>\n",
       "      <th>CustomerId</th>\n",
       "      <th>Surname</th>\n",
       "      <th>CreditScore</th>\n",
       "      <th>Age</th>\n",
       "      <th>Tenure</th>\n",
       "      <th>Balance</th>\n",
       "      <th>NumOfProducts</th>\n",
       "      <th>HasCrCard</th>\n",
       "      <th>IsActiveMember</th>\n",
       "      <th>EstimatedSalary</th>\n",
       "      <th>Exited</th>\n",
       "      <th>Gender_Male</th>\n",
       "      <th>Geography_Germany</th>\n",
       "      <th>Geography_Spain</th>\n",
       "    </tr>\n",
       "  </thead>\n",
       "  <tbody>\n",
       "    <tr>\n",
       "      <th>0</th>\n",
       "      <td>1</td>\n",
       "      <td>15634602</td>\n",
       "      <td>Hargrave</td>\n",
       "      <td>619</td>\n",
       "      <td>42</td>\n",
       "      <td>2.0</td>\n",
       "      <td>0.00</td>\n",
       "      <td>1</td>\n",
       "      <td>1</td>\n",
       "      <td>1</td>\n",
       "      <td>101348.88</td>\n",
       "      <td>1</td>\n",
       "      <td>0</td>\n",
       "      <td>0</td>\n",
       "      <td>0</td>\n",
       "    </tr>\n",
       "    <tr>\n",
       "      <th>1</th>\n",
       "      <td>2</td>\n",
       "      <td>15647311</td>\n",
       "      <td>Hill</td>\n",
       "      <td>608</td>\n",
       "      <td>41</td>\n",
       "      <td>1.0</td>\n",
       "      <td>83807.86</td>\n",
       "      <td>1</td>\n",
       "      <td>0</td>\n",
       "      <td>1</td>\n",
       "      <td>112542.58</td>\n",
       "      <td>0</td>\n",
       "      <td>0</td>\n",
       "      <td>0</td>\n",
       "      <td>1</td>\n",
       "    </tr>\n",
       "    <tr>\n",
       "      <th>2</th>\n",
       "      <td>3</td>\n",
       "      <td>15619304</td>\n",
       "      <td>Onio</td>\n",
       "      <td>502</td>\n",
       "      <td>42</td>\n",
       "      <td>8.0</td>\n",
       "      <td>159660.80</td>\n",
       "      <td>3</td>\n",
       "      <td>1</td>\n",
       "      <td>0</td>\n",
       "      <td>113931.57</td>\n",
       "      <td>1</td>\n",
       "      <td>0</td>\n",
       "      <td>0</td>\n",
       "      <td>0</td>\n",
       "    </tr>\n",
       "    <tr>\n",
       "      <th>3</th>\n",
       "      <td>4</td>\n",
       "      <td>15701354</td>\n",
       "      <td>Boni</td>\n",
       "      <td>699</td>\n",
       "      <td>39</td>\n",
       "      <td>1.0</td>\n",
       "      <td>0.00</td>\n",
       "      <td>2</td>\n",
       "      <td>0</td>\n",
       "      <td>0</td>\n",
       "      <td>93826.63</td>\n",
       "      <td>0</td>\n",
       "      <td>0</td>\n",
       "      <td>0</td>\n",
       "      <td>0</td>\n",
       "    </tr>\n",
       "    <tr>\n",
       "      <th>4</th>\n",
       "      <td>5</td>\n",
       "      <td>15737888</td>\n",
       "      <td>Mitchell</td>\n",
       "      <td>850</td>\n",
       "      <td>43</td>\n",
       "      <td>2.0</td>\n",
       "      <td>125510.82</td>\n",
       "      <td>1</td>\n",
       "      <td>1</td>\n",
       "      <td>1</td>\n",
       "      <td>79084.10</td>\n",
       "      <td>0</td>\n",
       "      <td>0</td>\n",
       "      <td>0</td>\n",
       "      <td>1</td>\n",
       "    </tr>\n",
       "  </tbody>\n",
       "</table>\n",
       "</div>"
      ],
      "text/plain": [
       "   RowNumber  CustomerId   Surname  CreditScore  Age  Tenure    Balance  \\\n",
       "0          1    15634602  Hargrave          619   42     2.0       0.00   \n",
       "1          2    15647311      Hill          608   41     1.0   83807.86   \n",
       "2          3    15619304      Onio          502   42     8.0  159660.80   \n",
       "3          4    15701354      Boni          699   39     1.0       0.00   \n",
       "4          5    15737888  Mitchell          850   43     2.0  125510.82   \n",
       "\n",
       "   NumOfProducts  HasCrCard  IsActiveMember  EstimatedSalary  Exited  \\\n",
       "0              1          1               1        101348.88       1   \n",
       "1              1          0               1        112542.58       0   \n",
       "2              3          1               0        113931.57       1   \n",
       "3              2          0               0         93826.63       0   \n",
       "4              1          1               1         79084.10       0   \n",
       "\n",
       "   Gender_Male  Geography_Germany  Geography_Spain  \n",
       "0            0                  0                0  \n",
       "1            0                  0                1  \n",
       "2            0                  0                0  \n",
       "3            0                  0                0  \n",
       "4            0                  0                1  "
      ]
     },
     "execution_count": 52,
     "metadata": {},
     "output_type": "execute_result"
    }
   ],
   "source": [
    "# приверим, что получилось\n",
    "df.head()"
   ]
  },
  {
   "cell_type": "markdown",
   "metadata": {},
   "source": [
    "Далее разделим датасет на 3 выборки - обучающую, валидационную и тестовую.\n",
    "\n",
    "Кроме того, удалим признаки Surmane и CustomerId, так как они никак не влияют на качество обучения."
   ]
  },
  {
   "cell_type": "code",
   "execution_count": 53,
   "metadata": {},
   "outputs": [],
   "source": [
    "target = df['Exited']\n",
    "features = df.drop(['Exited', 'Surname', 'CustomerId', 'RowNumber'], axis=1)\n",
    "\n",
    "# разделяем на обучающую и тестовую выборки (80/20)\n",
    "features_train, features_test, target_train, target_test = train_test_split(features, \n",
    "                                                                            target, \n",
    "                                                                            test_size=0.2, \n",
    "                                                                            random_state=12345,\n",
    "                                                                            stratify=target )\n",
    "\n",
    "# разделяем обучающую выборку на обучающую и валидационную (75/25)\n",
    "features_train, features_valid, target_train, target_valid = train_test_split(features_train, \n",
    "                                                                              target_train, \n",
    "                                                                              test_size=0.25, \n",
    "                                                                              random_state=12345, \n",
    "                                                                              stratify=target_train)"
   ]
  },
  {
   "cell_type": "code",
   "execution_count": 54,
   "metadata": {},
   "outputs": [],
   "source": [
    "# признаки, которые будем масштабировать\n",
    "cols_to_scale = ['CreditScore', 'Balance', 'EstimatedSalary']\n",
    "#Масштабируем численные признаки обучающей выборки\n",
    "scaler = StandardScaler()\n",
    "scaler.fit(features_train[cols_to_scale])\n",
    "features_train[cols_to_scale] = scaler.transform(features_train[cols_to_scale])\n",
    "\n"
   ]
  },
  {
   "cell_type": "code",
   "execution_count": 55,
   "metadata": {},
   "outputs": [
    {
     "data": {
      "text/html": [
       "<div>\n",
       "<style scoped>\n",
       "    .dataframe tbody tr th:only-of-type {\n",
       "        vertical-align: middle;\n",
       "    }\n",
       "\n",
       "    .dataframe tbody tr th {\n",
       "        vertical-align: top;\n",
       "    }\n",
       "\n",
       "    .dataframe thead th {\n",
       "        text-align: right;\n",
       "    }\n",
       "</style>\n",
       "<table border=\"1\" class=\"dataframe\">\n",
       "  <thead>\n",
       "    <tr style=\"text-align: right;\">\n",
       "      <th></th>\n",
       "      <th>CreditScore</th>\n",
       "      <th>Age</th>\n",
       "      <th>Tenure</th>\n",
       "      <th>Balance</th>\n",
       "      <th>NumOfProducts</th>\n",
       "      <th>HasCrCard</th>\n",
       "      <th>IsActiveMember</th>\n",
       "      <th>EstimatedSalary</th>\n",
       "      <th>Gender_Male</th>\n",
       "      <th>Geography_Germany</th>\n",
       "      <th>Geography_Spain</th>\n",
       "    </tr>\n",
       "  </thead>\n",
       "  <tbody>\n",
       "    <tr>\n",
       "      <th>3105</th>\n",
       "      <td>0.273332</td>\n",
       "      <td>28</td>\n",
       "      <td>4.0</td>\n",
       "      <td>-1.224804</td>\n",
       "      <td>2</td>\n",
       "      <td>1</td>\n",
       "      <td>1</td>\n",
       "      <td>0.776365</td>\n",
       "      <td>0</td>\n",
       "      <td>0</td>\n",
       "      <td>0</td>\n",
       "    </tr>\n",
       "    <tr>\n",
       "      <th>4900</th>\n",
       "      <td>0.867258</td>\n",
       "      <td>41</td>\n",
       "      <td>7.0</td>\n",
       "      <td>1.669480</td>\n",
       "      <td>1</td>\n",
       "      <td>1</td>\n",
       "      <td>1</td>\n",
       "      <td>0.650528</td>\n",
       "      <td>1</td>\n",
       "      <td>0</td>\n",
       "      <td>0</td>\n",
       "    </tr>\n",
       "    <tr>\n",
       "      <th>9400</th>\n",
       "      <td>-0.133038</td>\n",
       "      <td>31</td>\n",
       "      <td>3.0</td>\n",
       "      <td>0.357605</td>\n",
       "      <td>1</td>\n",
       "      <td>0</td>\n",
       "      <td>0</td>\n",
       "      <td>-1.368629</td>\n",
       "      <td>0</td>\n",
       "      <td>0</td>\n",
       "      <td>0</td>\n",
       "    </tr>\n",
       "    <tr>\n",
       "      <th>1760</th>\n",
       "      <td>-1.362568</td>\n",
       "      <td>38</td>\n",
       "      <td>5.0</td>\n",
       "      <td>0.555184</td>\n",
       "      <td>1</td>\n",
       "      <td>0</td>\n",
       "      <td>1</td>\n",
       "      <td>0.638830</td>\n",
       "      <td>1</td>\n",
       "      <td>0</td>\n",
       "      <td>0</td>\n",
       "    </tr>\n",
       "    <tr>\n",
       "      <th>6322</th>\n",
       "      <td>0.867258</td>\n",
       "      <td>50</td>\n",
       "      <td>2.0</td>\n",
       "      <td>-1.224804</td>\n",
       "      <td>2</td>\n",
       "      <td>0</td>\n",
       "      <td>1</td>\n",
       "      <td>0.822454</td>\n",
       "      <td>1</td>\n",
       "      <td>0</td>\n",
       "      <td>0</td>\n",
       "    </tr>\n",
       "  </tbody>\n",
       "</table>\n",
       "</div>"
      ],
      "text/plain": [
       "      CreditScore  Age  Tenure   Balance  NumOfProducts  HasCrCard  \\\n",
       "3105     0.273332   28     4.0 -1.224804              2          1   \n",
       "4900     0.867258   41     7.0  1.669480              1          1   \n",
       "9400    -0.133038   31     3.0  0.357605              1          0   \n",
       "1760    -1.362568   38     5.0  0.555184              1          0   \n",
       "6322     0.867258   50     2.0 -1.224804              2          0   \n",
       "\n",
       "      IsActiveMember  EstimatedSalary  Gender_Male  Geography_Germany  \\\n",
       "3105               1         0.776365            0                  0   \n",
       "4900               1         0.650528            1                  0   \n",
       "9400               0        -1.368629            0                  0   \n",
       "1760               1         0.638830            1                  0   \n",
       "6322               1         0.822454            1                  0   \n",
       "\n",
       "      Geography_Spain  \n",
       "3105                0  \n",
       "4900                0  \n",
       "9400                0  \n",
       "1760                0  \n",
       "6322                0  "
      ]
     },
     "execution_count": 55,
     "metadata": {},
     "output_type": "execute_result"
    }
   ],
   "source": [
    "# приверим, что получилось\n",
    "features_train.head()"
   ]
  },
  {
   "cell_type": "code",
   "execution_count": 56,
   "metadata": {},
   "outputs": [
    {
     "data": {
      "text/html": [
       "<div>\n",
       "<style scoped>\n",
       "    .dataframe tbody tr th:only-of-type {\n",
       "        vertical-align: middle;\n",
       "    }\n",
       "\n",
       "    .dataframe tbody tr th {\n",
       "        vertical-align: top;\n",
       "    }\n",
       "\n",
       "    .dataframe thead th {\n",
       "        text-align: right;\n",
       "    }\n",
       "</style>\n",
       "<table border=\"1\" class=\"dataframe\">\n",
       "  <thead>\n",
       "    <tr style=\"text-align: right;\">\n",
       "      <th></th>\n",
       "      <th>CreditScore</th>\n",
       "      <th>Age</th>\n",
       "      <th>Tenure</th>\n",
       "      <th>Balance</th>\n",
       "      <th>NumOfProducts</th>\n",
       "      <th>HasCrCard</th>\n",
       "      <th>IsActiveMember</th>\n",
       "      <th>EstimatedSalary</th>\n",
       "      <th>Gender_Male</th>\n",
       "      <th>Geography_Germany</th>\n",
       "      <th>Geography_Spain</th>\n",
       "    </tr>\n",
       "  </thead>\n",
       "  <tbody>\n",
       "    <tr>\n",
       "      <th>3333</th>\n",
       "      <td>-0.341433</td>\n",
       "      <td>41</td>\n",
       "      <td>5.0</td>\n",
       "      <td>0.262808</td>\n",
       "      <td>1</td>\n",
       "      <td>1</td>\n",
       "      <td>0</td>\n",
       "      <td>-1.068091</td>\n",
       "      <td>0</td>\n",
       "      <td>1</td>\n",
       "      <td>0</td>\n",
       "    </tr>\n",
       "    <tr>\n",
       "      <th>8865</th>\n",
       "      <td>0.169135</td>\n",
       "      <td>72</td>\n",
       "      <td>2.0</td>\n",
       "      <td>-1.224804</td>\n",
       "      <td>2</td>\n",
       "      <td>1</td>\n",
       "      <td>1</td>\n",
       "      <td>-0.503159</td>\n",
       "      <td>1</td>\n",
       "      <td>0</td>\n",
       "      <td>0</td>\n",
       "    </tr>\n",
       "    <tr>\n",
       "      <th>6987</th>\n",
       "      <td>-1.247951</td>\n",
       "      <td>60</td>\n",
       "      <td>5.0</td>\n",
       "      <td>0.009235</td>\n",
       "      <td>2</td>\n",
       "      <td>0</td>\n",
       "      <td>1</td>\n",
       "      <td>-1.491718</td>\n",
       "      <td>1</td>\n",
       "      <td>0</td>\n",
       "      <td>0</td>\n",
       "    </tr>\n",
       "    <tr>\n",
       "      <th>1365</th>\n",
       "      <td>-0.278914</td>\n",
       "      <td>43</td>\n",
       "      <td>8.0</td>\n",
       "      <td>2.020069</td>\n",
       "      <td>1</td>\n",
       "      <td>1</td>\n",
       "      <td>0</td>\n",
       "      <td>0.578245</td>\n",
       "      <td>1</td>\n",
       "      <td>0</td>\n",
       "      <td>0</td>\n",
       "    </tr>\n",
       "    <tr>\n",
       "      <th>5406</th>\n",
       "      <td>-1.414667</td>\n",
       "      <td>47</td>\n",
       "      <td>6.0</td>\n",
       "      <td>0.535012</td>\n",
       "      <td>1</td>\n",
       "      <td>0</td>\n",
       "      <td>0</td>\n",
       "      <td>0.375726</td>\n",
       "      <td>0</td>\n",
       "      <td>0</td>\n",
       "      <td>0</td>\n",
       "    </tr>\n",
       "  </tbody>\n",
       "</table>\n",
       "</div>"
      ],
      "text/plain": [
       "      CreditScore  Age  Tenure   Balance  NumOfProducts  HasCrCard  \\\n",
       "3333    -0.341433   41     5.0  0.262808              1          1   \n",
       "8865     0.169135   72     2.0 -1.224804              2          1   \n",
       "6987    -1.247951   60     5.0  0.009235              2          0   \n",
       "1365    -0.278914   43     8.0  2.020069              1          1   \n",
       "5406    -1.414667   47     6.0  0.535012              1          0   \n",
       "\n",
       "      IsActiveMember  EstimatedSalary  Gender_Male  Geography_Germany  \\\n",
       "3333               0        -1.068091            0                  1   \n",
       "8865               1        -0.503159            1                  0   \n",
       "6987               1        -1.491718            1                  0   \n",
       "1365               0         0.578245            1                  0   \n",
       "5406               0         0.375726            0                  0   \n",
       "\n",
       "      Geography_Spain  \n",
       "3333                0  \n",
       "8865                0  \n",
       "6987                0  \n",
       "1365                0  \n",
       "5406                0  "
      ]
     },
     "execution_count": 56,
     "metadata": {},
     "output_type": "execute_result"
    }
   ],
   "source": [
    "#Масштабируем численные признаки валидационной выборки \n",
    "features_valid[cols_to_scale] = scaler.transform(features_valid[cols_to_scale])\n",
    "features_valid.head()"
   ]
  },
  {
   "cell_type": "code",
   "execution_count": 57,
   "metadata": {},
   "outputs": [
    {
     "data": {
      "text/html": [
       "<div>\n",
       "<style scoped>\n",
       "    .dataframe tbody tr th:only-of-type {\n",
       "        vertical-align: middle;\n",
       "    }\n",
       "\n",
       "    .dataframe tbody tr th {\n",
       "        vertical-align: top;\n",
       "    }\n",
       "\n",
       "    .dataframe thead th {\n",
       "        text-align: right;\n",
       "    }\n",
       "</style>\n",
       "<table border=\"1\" class=\"dataframe\">\n",
       "  <thead>\n",
       "    <tr style=\"text-align: right;\">\n",
       "      <th></th>\n",
       "      <th>CreditScore</th>\n",
       "      <th>Age</th>\n",
       "      <th>Tenure</th>\n",
       "      <th>Balance</th>\n",
       "      <th>NumOfProducts</th>\n",
       "      <th>HasCrCard</th>\n",
       "      <th>IsActiveMember</th>\n",
       "      <th>EstimatedSalary</th>\n",
       "      <th>Gender_Male</th>\n",
       "      <th>Geography_Germany</th>\n",
       "      <th>Geography_Spain</th>\n",
       "    </tr>\n",
       "  </thead>\n",
       "  <tbody>\n",
       "    <tr>\n",
       "      <th>172</th>\n",
       "      <td>-1.789778</td>\n",
       "      <td>44</td>\n",
       "      <td>10.0</td>\n",
       "      <td>0.860330</td>\n",
       "      <td>1</td>\n",
       "      <td>1</td>\n",
       "      <td>0</td>\n",
       "      <td>-1.637968</td>\n",
       "      <td>1</td>\n",
       "      <td>1</td>\n",
       "      <td>0</td>\n",
       "    </tr>\n",
       "    <tr>\n",
       "      <th>6063</th>\n",
       "      <td>1.148591</td>\n",
       "      <td>31</td>\n",
       "      <td>7.0</td>\n",
       "      <td>0.668542</td>\n",
       "      <td>1</td>\n",
       "      <td>1</td>\n",
       "      <td>1</td>\n",
       "      <td>1.035629</td>\n",
       "      <td>1</td>\n",
       "      <td>0</td>\n",
       "      <td>0</td>\n",
       "    </tr>\n",
       "    <tr>\n",
       "      <th>2495</th>\n",
       "      <td>-1.935654</td>\n",
       "      <td>56</td>\n",
       "      <td>2.0</td>\n",
       "      <td>0.575759</td>\n",
       "      <td>3</td>\n",
       "      <td>1</td>\n",
       "      <td>0</td>\n",
       "      <td>1.700931</td>\n",
       "      <td>0</td>\n",
       "      <td>1</td>\n",
       "      <td>0</td>\n",
       "    </tr>\n",
       "    <tr>\n",
       "      <th>9222</th>\n",
       "      <td>-0.966618</td>\n",
       "      <td>28</td>\n",
       "      <td>3.0</td>\n",
       "      <td>1.045194</td>\n",
       "      <td>1</td>\n",
       "      <td>1</td>\n",
       "      <td>1</td>\n",
       "      <td>-1.461875</td>\n",
       "      <td>1</td>\n",
       "      <td>0</td>\n",
       "      <td>0</td>\n",
       "    </tr>\n",
       "    <tr>\n",
       "      <th>1943</th>\n",
       "      <td>0.794319</td>\n",
       "      <td>39</td>\n",
       "      <td>6.0</td>\n",
       "      <td>1.223503</td>\n",
       "      <td>1</td>\n",
       "      <td>0</td>\n",
       "      <td>0</td>\n",
       "      <td>1.067933</td>\n",
       "      <td>1</td>\n",
       "      <td>1</td>\n",
       "      <td>0</td>\n",
       "    </tr>\n",
       "  </tbody>\n",
       "</table>\n",
       "</div>"
      ],
      "text/plain": [
       "      CreditScore  Age  Tenure   Balance  NumOfProducts  HasCrCard  \\\n",
       "172     -1.789778   44    10.0  0.860330              1          1   \n",
       "6063     1.148591   31     7.0  0.668542              1          1   \n",
       "2495    -1.935654   56     2.0  0.575759              3          1   \n",
       "9222    -0.966618   28     3.0  1.045194              1          1   \n",
       "1943     0.794319   39     6.0  1.223503              1          0   \n",
       "\n",
       "      IsActiveMember  EstimatedSalary  Gender_Male  Geography_Germany  \\\n",
       "172                0        -1.637968            1                  1   \n",
       "6063               1         1.035629            1                  0   \n",
       "2495               0         1.700931            0                  1   \n",
       "9222               1        -1.461875            1                  0   \n",
       "1943               0         1.067933            1                  1   \n",
       "\n",
       "      Geography_Spain  \n",
       "172                 0  \n",
       "6063                0  \n",
       "2495                0  \n",
       "9222                0  \n",
       "1943                0  "
      ]
     },
     "execution_count": 57,
     "metadata": {},
     "output_type": "execute_result"
    }
   ],
   "source": [
    "#Масштабируем численные признаки тестовой выборки \n",
    "features_test[cols_to_scale] = scaler.transform(features_test[cols_to_scale])\n",
    "features_test.head()"
   ]
  },
  {
   "cell_type": "markdown",
   "metadata": {},
   "source": [
    "Проверим, сколько данных в получившихся выборках и сколько это число составляет в % от изначального датасета."
   ]
  },
  {
   "cell_type": "code",
   "execution_count": 127,
   "metadata": {},
   "outputs": [
    {
     "data": {
      "text/plain": [
       "(5454,)"
      ]
     },
     "execution_count": 127,
     "metadata": {},
     "output_type": "execute_result"
    }
   ],
   "source": [
    "target_train.shape"
   ]
  },
  {
   "cell_type": "code",
   "execution_count": 128,
   "metadata": {},
   "outputs": [
    {
     "data": {
      "text/plain": [
       "0.6"
      ]
     },
     "execution_count": 128,
     "metadata": {},
     "output_type": "execute_result"
    }
   ],
   "source": [
    "round(len(target_train) / len(df), 3)"
   ]
  },
  {
   "cell_type": "code",
   "execution_count": 129,
   "metadata": {},
   "outputs": [
    {
     "data": {
      "text/plain": [
       "(1819,)"
      ]
     },
     "execution_count": 129,
     "metadata": {},
     "output_type": "execute_result"
    }
   ],
   "source": [
    "target_test.shape"
   ]
  },
  {
   "cell_type": "code",
   "execution_count": 130,
   "metadata": {},
   "outputs": [
    {
     "data": {
      "text/plain": [
       "0.2"
      ]
     },
     "execution_count": 130,
     "metadata": {},
     "output_type": "execute_result"
    }
   ],
   "source": [
    "round(len(target_test) / len(df), 3)"
   ]
  },
  {
   "cell_type": "code",
   "execution_count": 131,
   "metadata": {},
   "outputs": [
    {
     "data": {
      "text/plain": [
       "(1818,)"
      ]
     },
     "execution_count": 131,
     "metadata": {},
     "output_type": "execute_result"
    }
   ],
   "source": [
    "target_valid.shape"
   ]
  },
  {
   "cell_type": "code",
   "execution_count": 63,
   "metadata": {},
   "outputs": [
    {
     "data": {
      "text/plain": [
       "0.2"
      ]
     },
     "execution_count": 63,
     "metadata": {},
     "output_type": "execute_result"
    }
   ],
   "source": [
    "round(len(target_valid) / len(df), 3)"
   ]
  },
  {
   "cell_type": "markdown",
   "metadata": {},
   "source": [
    "Судя по полученным цифрам, данные разделены на 3 выборки в верном соотношении."
   ]
  },
  {
   "cell_type": "code",
   "execution_count": 64,
   "metadata": {},
   "outputs": [
    {
     "data": {
      "text/plain": [
       "<AxesSubplot:>"
      ]
     },
     "execution_count": 64,
     "metadata": {},
     "output_type": "execute_result"
    },
    {
     "data": {
      "image/png": "[encoded data removed]",
      "text/plain": [
       "<Figure size 1080x360 with 2 Axes>"
      ]
     },
     "metadata": {
      "needs_background": "light"
     },
     "output_type": "display_data"
    }
   ],
   "source": [
    "#проверим корреляцию между признаками\n",
    "correlation = df.corr()\n",
    "plt.figure(figsize = (15,5))\n",
    "sns.heatmap(correlation, annot = True)"
   ]
  },
  {
   "cell_type": "markdown",
   "metadata": {},
   "source": [
    "Критично высоких связей между признаками не наблюдается, поэтому можно оставить модель с изначальным набором признаков."
   ]
  },
  {
   "cell_type": "markdown",
   "metadata": {},
   "source": [
    "## Исследование задачи"
   ]
  },
  {
   "cell_type": "markdown",
   "metadata": {},
   "source": [
    "### Проверка на наличие дисбаланса"
   ]
  },
  {
   "cell_type": "markdown",
   "metadata": {},
   "source": [
    "Проверим, как часто в целевом признаке встречается класс «1» или «0»."
   ]
  },
  {
   "cell_type": "code",
   "execution_count": 65,
   "metadata": {},
   "outputs": [
    {
     "name": "stdout",
     "output_type": "stream",
     "text": [
      "0    0.796062\n",
      "1    0.203938\n",
      "Name: Exited, dtype: float64\n"
     ]
    },
    {
     "data": {
      "text/plain": [
       "<AxesSubplot:>"
      ]
     },
     "execution_count": 65,
     "metadata": {},
     "output_type": "execute_result"
    },
    {
     "data": {
      "image/png": "[encoded data removed]",
      "text/plain": [
       "<Figure size 432x288 with 1 Axes>"
      ]
     },
     "metadata": {
      "needs_background": "light"
     },
     "output_type": "display_data"
    }
   ],
   "source": [
    "class_frequency = df['Exited'].value_counts(normalize=1)\n",
    "print(class_frequency)\n",
    "class_frequency.plot(kind='bar')"
   ]
  },
  {
   "cell_type": "markdown",
   "metadata": {},
   "source": [
    "Из полученных данных видно, что в целевом признаке наблюдается достаточно сильный дисбаланс классов - только 20% отражают факт ухода клиента."
   ]
  },
  {
   "cell_type": "markdown",
   "metadata": {},
   "source": [
    "Кроме того, сравним качество предсказаний с константной моделью. За константу примем пример 0, так как это значение встречается почти в 80% случаев."
   ]
  },
  {
   "cell_type": "code",
   "execution_count": 66,
   "metadata": {},
   "outputs": [
    {
     "name": "stdout",
     "output_type": "stream",
     "text": [
      "0.7960620393796062\n"
     ]
    }
   ],
   "source": [
    "target_pred_constant = pd.Series(0, index=target.index)\n",
    "print(accuracy_score(target, target_pred_constant))"
   ]
  },
  {
   "cell_type": "markdown",
   "metadata": {},
   "source": [
    "### Проверка моделей без учета дисбаланса."
   ]
  },
  {
   "cell_type": "markdown",
   "metadata": {},
   "source": [
    "Обучим несколько моделей без учета дисбаланса, и посмотрим на ключевые метрики - Recall, Precision и F1-score.\n",
    "Перед этим подберем оптимальные гиперпараметры для моделей на основании метрики F1-score."
   ]
  },
  {
   "cell_type": "markdown",
   "metadata": {},
   "source": [
    "Дерево решений"
   ]
  },
  {
   "cell_type": "code",
   "execution_count": 77,
   "metadata": {},
   "outputs": [
    {
     "name": "stderr",
     "output_type": "stream",
     "text": [
      "Progress: 100%|██████████| 15/15 [01:04<00:00,  4.30s/it]"
     ]
    },
    {
     "name": "stdout",
     "output_type": "stream",
     "text": [
      "Оптимальная глубина дерева = 7\n",
      "Качество модели -  0.5779967159277504\n",
      "Время выполнения кода =  4.696846008300781e-05 сек.\n"
     ]
    },
    {
     "name": "stderr",
     "output_type": "stream",
     "text": [
      "\n"
     ]
    }
   ],
   "source": [
    "#дерево решений - подберем лучшие гиперпараметры\n",
    "best_model_dt = None\n",
    "best_depth_dt = 0\n",
    "best_f1_dt = 0\n",
    "for depth in tqdm(range(1, 16), desc='Progress: '):\n",
    "    for leaf in range(2,31):\n",
    "        for sample in range(2,15):\n",
    "            model_tree = DecisionTreeClassifier(max_depth=depth, max_leaf_nodes=leaf, min_samples_split=sample, random_state=12345)\n",
    "            model_tree.fit(features_train, target_train)\n",
    "            predictions_valid_tree = model_tree.predict(features_valid)\n",
    "            f1_tree = f1_score(target_valid, predictions_valid_tree)\n",
    "            if f1_tree > best_f1_dt:\n",
    "                best_model_dt = model_tree\n",
    "                best_depth_dt = depth\n",
    "                best_f1_dt = f1_tree\n",
    "print('Оптимальная глубина дерева =', best_depth_dt) \n",
    "print('Качество модели - ',  best_f1_dt)\n",
    "\n",
    "start_time = time.time()\n",
    "print('Время выполнения кода = ', (time.time() - start_time), 'сек.')            "
   ]
  },
  {
   "cell_type": "code",
   "execution_count": 132,
   "metadata": {},
   "outputs": [],
   "source": [
    "# обучаем модель с оптимальными значениями гиперпараметров\n",
    "best_model_dt.fit(features_train, target_train)\n",
    "predictions_valid_tree = best_model_dt.predict(features_valid)"
   ]
  },
  {
   "cell_type": "code",
   "execution_count": 133,
   "metadata": {},
   "outputs": [
    {
     "name": "stdout",
     "output_type": "stream",
     "text": [
      "Accuracy_tree: 0.7711771177117712\n",
      "Recall_tree: 0.7547169811320755\n",
      "Precision_tree: 0.4628099173553719\n",
      "F1_tree: 0.5737704918032787\n"
     ]
    }
   ],
   "source": [
    "print(\"Accuracy_tree:\", accuracy_score(target_valid, predictions_valid_tree))\n",
    "print(\"Recall_tree:\", recall_score(target_valid, predictions_valid_tree))\n",
    "print(\"Precision_tree:\", precision_score(target_valid, predictions_valid_tree))\n",
    "print(\"F1_tree:\", f1_score(target_valid, predictions_valid_tree))"
   ]
  },
  {
   "cell_type": "markdown",
   "metadata": {},
   "source": [
    "Случайный лес"
   ]
  },
  {
   "cell_type": "code",
   "execution_count": 82,
   "metadata": {},
   "outputs": [
    {
     "name": "stderr",
     "output_type": "stream",
     "text": [
      "Progress: 100%|██████████| 10/10 [04:12<00:00, 25.28s/it]"
     ]
    },
    {
     "name": "stdout",
     "output_type": "stream",
     "text": [
      "Оптимальное количество оценок = 201\n",
      "Оптимальная глубина дерева = 13\n",
      "Качество модели -  0.5803108808290155\n",
      "Время выполнения кода =  3.24249267578125e-05 сек.\n"
     ]
    },
    {
     "name": "stderr",
     "output_type": "stream",
     "text": [
      "\n"
     ]
    }
   ],
   "source": [
    "# случайный лес - подберем лучшие гиперпараметры\n",
    "best_model_rf = None\n",
    "best_est_rf = 0\n",
    "best_depth_rf = 0\n",
    "best_f1_rf = 0\n",
    "for est in tqdm(range(1, 1001, 100), desc='Progress: '):\n",
    "    for depth in range(1, 15):\n",
    "        model_forest = RandomForestClassifier(n_estimators=est, max_depth=depth, random_state=12345, n_jobs=-1)\n",
    "        model_forest.fit(features_train, target_train)\n",
    "        prediction_valid_rf = model_forest.predict(features_valid)\n",
    "        f1_forest = f1_score(target_valid, prediction_valid_rf)\n",
    "        if f1_forest > best_f1_rf:\n",
    "            best_model_rf = model_forest\n",
    "            best_est_rf = est\n",
    "            best_depth_rf = depth\n",
    "            best_f1_rf = f1_forest\n",
    "\n",
    "print('Оптимальное количество оценок =', best_est_rf)\n",
    "print('Оптимальная глубина дерева =', best_depth_rf)\n",
    "print('Качество модели - ', best_f1_rf)\n",
    "\n",
    "start_time = time.time()\n",
    "print('Время выполнения кода = ', (time.time() - start_time), 'сек.')"
   ]
  },
  {
   "cell_type": "code",
   "execution_count": 83,
   "metadata": {},
   "outputs": [],
   "source": [
    "# обучаем модель с оптимальными значениями гиперпараметров\n",
    "best_model_rf.fit(features_train, target_train)\n",
    "predictions_valid_rf = best_model_rf.predict(features_valid)"
   ]
  },
  {
   "cell_type": "code",
   "execution_count": 134,
   "metadata": {},
   "outputs": [
    {
     "name": "stdout",
     "output_type": "stream",
     "text": [
      "Accuracy_forest: 0.8426842684268426\n",
      "Recall_forest: 0.6145552560646901\n",
      "Precision_forest: 0.6145552560646901\n",
      "F1_forest: 0.6145552560646901\n"
     ]
    }
   ],
   "source": [
    "print(\"Accuracy_forest:\", accuracy_score(target_valid, predictions_valid_rf))\n",
    "print(\"Recall_forest:\", recall_score(target_valid, predictions_valid_rf))\n",
    "print(\"Precision_forest:\", precision_score(target_valid, predictions_valid_rf))\n",
    "print(\"F1_forest:\", f1_score(target_valid, predictions_valid_rf))"
   ]
  },
  {
   "cell_type": "markdown",
   "metadata": {},
   "source": [
    "Логистическая регрессия"
   ]
  },
  {
   "cell_type": "code",
   "execution_count": 135,
   "metadata": {
    "scrolled": true
   },
   "outputs": [
    {
     "name": "stdout",
     "output_type": "stream",
     "text": [
      "Время выполнения кода =  9.965896606445312e-05 сек.\n"
     ]
    }
   ],
   "source": [
    "# логистическая регрессия - подберем лучшие гиперпараметры\n",
    "#model_log = LogisticRegression(random_state=12345,\n",
    "                               solver='lbfgs')\n",
    "# обучаем модель на тренировочной выборке\n",
    "#model_log.fit(features_train, target_train)\n",
    "# получаем предсказания на валидационной выборке\n",
    "#predictions_valid_log = model_log.predict(features_valid)\n",
    "\n",
    "#start_time = time.time()\n",
    "#print('Время выполнения кода = ', (time.time() - start_time), 'сек.')"
   ]
  },
  {
   "cell_type": "code",
   "execution_count": 136,
   "metadata": {},
   "outputs": [
    {
     "name": "stdout",
     "output_type": "stream",
     "text": [
      "Accuracy_log: 0.8058305830583058\n",
      "Recall_log: 0.18328840970350405\n",
      "Precision_log: 0.576271186440678\n",
      "F1_log: 0.278118609406953\n"
     ]
    }
   ],
   "source": [
    "#print(\"Accuracy_log:\", accuracy_score(target_valid, predictions_valid_log))\n",
    "#print(\"Recall_log:\", recall_score(target_valid, predictions_valid_log))\n",
    "#print(\"Precision_log:\", precision_score(target_valid, predictions_valid_log))\n",
    "#print(\"F1_log:\", f1_score(target_valid, predictions_valid_log))"
   ]
  },
  {
   "cell_type": "markdown",
   "metadata": {},
   "source": [
    "Оценим модели по качеству - F1-score.\n",
    "\n",
    "Дерево решений\n",
    "\n",
    "Качество модели = 0.577\n",
    "\n",
    "Случайный лес\n",
    "\n",
    "Качество модели = 0.580\n",
    "\n",
    "Логистическая регрессия\n",
    "\n",
    "Качество модели = 0.278"
   ]
  },
  {
   "cell_type": "markdown",
   "metadata": {},
   "source": [
    "Таким образом, обучив модели без учета дисбаланса классов, наилучшее значение метрики F1-score демонстрирует модель Случайный лес.\n",
    "\n",
    "Далее, посмотрим на то, как выглядит дисбаланс классов для 3 обученных моделей."
   ]
  },
  {
   "cell_type": "code",
   "execution_count": 87,
   "metadata": {},
   "outputs": [
    {
     "data": {
      "image/png": "[encoded data removed]",
      "text/plain": [
       "<Figure size 432x288 with 2 Axes>"
      ]
     },
     "metadata": {
      "needs_background": "light"
     },
     "output_type": "display_data"
    }
   ],
   "source": [
    "# построим матрицу ошибок, чтобы посмотреть на соотношения TP, TN, FP и FN\n",
    "plot_confusion_matrix(estimator=model_tree, X=features_valid, y_true=target_valid,\n",
    "                      normalize='true', cmap='Blues')\n",
    "None"
   ]
  },
  {
   "cell_type": "code",
   "execution_count": 88,
   "metadata": {},
   "outputs": [
    {
     "data": {
      "text/plain": [
       "<sklearn.metrics._plot.confusion_matrix.ConfusionMatrixDisplay at 0x7f587a8376a0>"
      ]
     },
     "execution_count": 88,
     "metadata": {},
     "output_type": "execute_result"
    },
    {
     "data": {
      "image/png": "[encoded data removed]",
      "text/plain": [
       "<Figure size 432x288 with 2 Axes>"
      ]
     },
     "metadata": {
      "needs_background": "light"
     },
     "output_type": "display_data"
    }
   ],
   "source": [
    "# построим матрицу ошибок, чтобы посмотреть на соотношения TP, TN, FP и FN \n",
    "plot_confusion_matrix(estimator=model_forest, X=features_valid, y_true=target_valid,\n",
    "                      normalize='true', cmap='Blues')"
   ]
  },
  {
   "cell_type": "code",
   "execution_count": 89,
   "metadata": {},
   "outputs": [
    {
     "data": {
      "image/png": "[encoded data removed]",
      "text/plain": [
       "<Figure size 432x288 with 2 Axes>"
      ]
     },
     "metadata": {
      "needs_background": "light"
     },
     "output_type": "display_data"
    }
   ],
   "source": [
    "# построим матрицу ошибок, чтобы посмотреть на соотношения TP, TN, FP и FN \n",
    "plot_confusion_matrix(estimator=model_log, X=features_valid, y_true=target_valid,\n",
    "                      normalize='true', cmap='Blues')\n",
    "None"
   ]
  },
  {
   "cell_type": "markdown",
   "metadata": {},
   "source": [
    "Матрицы ошибок наглядно демонстрируют, что для всех трех моделей наблюдается остаточно сильный дисбаланс классов.\n",
    "\n",
    "Для моделей Дерево решений и Случайный лес ситуация схожая - факт того, что клиент не ушел (0), модели определяют правильно примерно в 96% случаев, в то время как результат предсказаний по факту ухода (1) в среднем всего 45%."
   ]
  },
  {
   "cell_type": "markdown",
   "metadata": {},
   "source": [
    "## Борьба с дисбалансом"
   ]
  },
  {
   "cell_type": "markdown",
   "metadata": {},
   "source": [
    "Рассмотрим 3 метода борьбы с дисбалансом классов:\n",
    "\n",
    "Взвешивание классов\n",
    "\n",
    "Увеличение выборки (upsampling)\n",
    "\n",
    "Уменьшение выборки (downsampling)"
   ]
  },
  {
   "cell_type": "markdown",
   "metadata": {},
   "source": [
    "### Взвешивание классов\n",
    "\n",
    "Дерево решений"
   ]
  },
  {
   "cell_type": "code",
   "execution_count": 91,
   "metadata": {},
   "outputs": [
    {
     "name": "stderr",
     "output_type": "stream",
     "text": [
      "Progress: 100%|██████████| 15/15 [01:14<00:00,  4.97s/it]"
     ]
    },
    {
     "name": "stdout",
     "output_type": "stream",
     "text": [
      "Оптимальная глубина дерева = 7\n",
      "Качество модели -  0.5737704918032787\n",
      "Время выполнения кода =  3.123283386230469e-05 сек.\n"
     ]
    },
    {
     "name": "stderr",
     "output_type": "stream",
     "text": [
      "\n"
     ]
    }
   ],
   "source": [
    "#дерево решений - подберем лучшие гиперпараметры\n",
    "best_model_dt = None\n",
    "best_depth_dt = 0\n",
    "best_f1_dt = 0\n",
    "for depth in tqdm(range(1, 16), desc='Progress: '):\n",
    "    for leaf in range(2,31):\n",
    "        for sample in range(2,15):\n",
    "            model_tree = DecisionTreeClassifier(max_depth=depth, max_leaf_nodes=leaf, min_samples_split=sample, random_state=12345,class_weight='balanced' )\n",
    "            model_tree.fit(features_train, target_train)\n",
    "            predictions_valid_tree = model_tree.predict(features_valid)\n",
    "            f1_tree = f1_score(target_valid, predictions_valid_tree)\n",
    "            if f1_tree > best_f1_dt:\n",
    "                best_model_dt = model_tree\n",
    "                best_depth_dt = depth\n",
    "                best_f1_dt = f1_tree\n",
    "print('Оптимальная глубина дерева =', best_depth_dt) \n",
    "print('Качество модели - ',  best_f1_dt)\n",
    "\n",
    "start_time = time.time()\n",
    "print('Время выполнения кода = ', (time.time() - start_time), 'сек.')            "
   ]
  },
  {
   "cell_type": "code",
   "execution_count": 92,
   "metadata": {},
   "outputs": [],
   "source": [
    "# обучаем модель с оптимальными значениями гиперпараметров\n",
    "best_model_dt.fit(features_train, target_train)\n",
    "predictions_valid_tree = best_model_dt.predict(features_valid)"
   ]
  },
  {
   "cell_type": "code",
   "execution_count": 93,
   "metadata": {},
   "outputs": [
    {
     "name": "stdout",
     "output_type": "stream",
     "text": [
      "Accuracy_tree: 0.7711771177117712\n",
      "Recall_tree: 0.7547169811320755\n",
      "Precision_tree: 0.4628099173553719\n",
      "F1_tree: 0.5737704918032787\n"
     ]
    }
   ],
   "source": [
    "print(\"Accuracy_tree:\", accuracy_score(target_valid, predictions_valid_tree))\n",
    "print(\"Recall_tree:\", recall_score(target_valid, predictions_valid_tree))\n",
    "print(\"Precision_tree:\", precision_score(target_valid, predictions_valid_tree))\n",
    "print(\"F1_tree:\", f1_score(target_valid, predictions_valid_tree))"
   ]
  },
  {
   "cell_type": "markdown",
   "metadata": {},
   "source": [
    "Случайный лес"
   ]
  },
  {
   "cell_type": "code",
   "execution_count": 120,
   "metadata": {},
   "outputs": [
    {
     "name": "stderr",
     "output_type": "stream",
     "text": [
      "Progress: 100%|██████████| 10/10 [04:15<00:00, 25.51s/it]"
     ]
    },
    {
     "name": "stdout",
     "output_type": "stream",
     "text": [
      "Оптимальное количество оценок = 901\n",
      "Оптимальная глубина дерева = 10\n",
      "Качество модели -  0.6145552560646901\n",
      "Время выполнения кода =  2.8371810913085938e-05 сек.\n"
     ]
    },
    {
     "name": "stderr",
     "output_type": "stream",
     "text": [
      "\n"
     ]
    }
   ],
   "source": [
    "# случайный лес - подберем лучшие гиперпараметры\n",
    "best_model_rf = None\n",
    "best_est_rf = 0\n",
    "best_depth_rf = 0\n",
    "best_f1_rf = 0\n",
    "for est in tqdm(range(1, 1001, 100), desc='Progress: '):\n",
    "    for depth in range(1, 15):\n",
    "        model_forest = RandomForestClassifier(n_estimators=est, max_depth=depth, random_state=12345, n_jobs=-1, class_weight='balanced')\n",
    "        model_forest.fit(features_train, target_train)\n",
    "        prediction_valid_rf = model_forest.predict(features_valid)\n",
    "        f1_forest = f1_score(target_valid, prediction_valid_rf)\n",
    "        if f1_forest > best_f1_rf:\n",
    "            best_model_rf = model_forest\n",
    "            best_est_rf = est\n",
    "            best_depth_rf = depth\n",
    "            best_f1_rf = f1_forest\n",
    "\n",
    "best_model_rfw =  best_model_rf #сохраним эту модель для тестирования на тестовой выборке\n",
    "print('Оптимальное количество оценок =', best_est_rf)\n",
    "print('Оптимальная глубина дерева =', best_depth_rf)\n",
    "print('Качество модели - ', best_f1_rf)\n",
    "\n",
    "start_time = time.time()\n",
    "print('Время выполнения кода = ', (time.time() - start_time), 'сек.')"
   ]
  },
  {
   "cell_type": "code",
   "execution_count": 95,
   "metadata": {},
   "outputs": [],
   "source": [
    "# обучаем модель с оптимальными значениями гиперпараметров\n",
    "best_model_rf.fit(features_train, target_train)\n",
    "predictions_valid_rf = best_model_rf.predict(features_valid)"
   ]
  },
  {
   "cell_type": "code",
   "execution_count": 96,
   "metadata": {},
   "outputs": [
    {
     "name": "stdout",
     "output_type": "stream",
     "text": [
      "Accuracy_forest: 0.8426842684268426\n",
      "Recall_forest: 0.6145552560646901\n",
      "Precision_forest: 0.6145552560646901\n",
      "F1_forest: 0.6145552560646901\n"
     ]
    }
   ],
   "source": [
    "print(\"Accuracy_forest:\", accuracy_score(target_valid, predictions_valid_rf))\n",
    "print(\"Recall_forest:\", recall_score(target_valid, predictions_valid_rf))\n",
    "print(\"Precision_forest:\", precision_score(target_valid, predictions_valid_rf))\n",
    "print(\"F1_forest:\", f1_score(target_valid, predictions_valid_rf))"
   ]
  },
  {
   "cell_type": "markdown",
   "metadata": {},
   "source": [
    "Логистическая регрессия"
   ]
  },
  {
   "cell_type": "code",
   "execution_count": 97,
   "metadata": {},
   "outputs": [
    {
     "name": "stdout",
     "output_type": "stream",
     "text": [
      "Время выполнения кода =  7.581710815429688e-05 сек.\n",
      "Accuracy_log: 0.7079207920792079\n",
      "Recall_log: 0.6954177897574124\n",
      "Precision_log: 0.3816568047337278\n",
      "F1_log: 0.4928366762177651\n"
     ]
    }
   ],
   "source": [
    "# логистическая регрессия - подберем лучшие гиперпараметры\n",
    "model_log = LogisticRegression(random_state=12345,\n",
    "                               solver='liblinear', class_weight='balanced')\n",
    "# обучаем модель на тренировочной выборке\n",
    "model_log.fit(features_train, target_train)\n",
    "# получаем предсказания на валидационной выборке\n",
    "predictions_valid_log = model_log.predict(features_valid)\n",
    "\n",
    "start_time = time.time()\n",
    "print('Время выполнения кода = ', (time.time() - start_time), 'сек.')\n",
    "print(\"Accuracy_log:\", accuracy_score(target_valid, predictions_valid_log))\n",
    "print(\"Recall_log:\", recall_score(target_valid, predictions_valid_log))\n",
    "print(\"Precision_log:\", precision_score(target_valid, predictions_valid_log))\n",
    "print(\"F1_log:\", f1_score(target_valid, predictions_valid_log))"
   ]
  },
  {
   "cell_type": "markdown",
   "metadata": {},
   "source": [
    "Видим, что для логистической регрессии взвешивание классов пошло на пользу, F1-мера выросла.\n",
    "Для модели случайного леса F1-мера тоже немного выросла."
   ]
  },
  {
   "cell_type": "markdown",
   "metadata": {},
   "source": [
    "### Уменьшение выборки"
   ]
  },
  {
   "cell_type": "code",
   "execution_count": 98,
   "metadata": {},
   "outputs": [
    {
     "name": "stdout",
     "output_type": "stream",
     "text": [
      "(2198, 11)\n",
      "(2198,)\n"
     ]
    }
   ],
   "source": [
    "# уменьшим выборку в 4 раза, так как положительный класс больше отрицательного в 4 раза\n",
    "def downsample(features, target, fraction):\n",
    "    features_zeros = features[target == 0]\n",
    "    features_ones = features[target == 1]\n",
    "    target_zeros = target[target == 0]\n",
    "    target_ones = target[target == 1]\n",
    "\n",
    "    # fractioning samples\n",
    "    features_downsampled = pd.concat([features_zeros.sample(frac=fraction, random_state=12345)] +\n",
    "                                     [features_ones])\n",
    "    target_downsampled = pd.concat([target_zeros.sample(frac=fraction, random_state=12345)] +\n",
    "                                   [target_ones])\n",
    "    \n",
    "    features_downsampled = shuffle(features_downsampled, random_state=12345)\n",
    "    target_downsampled = shuffle(target_downsampled, random_state=12345)\n",
    "\n",
    "    return features_downsampled, target_downsampled\n",
    "\n",
    "features_downsampled, target_downsampled = downsample(features_train, target_train, 0.25)\n",
    "\n",
    "print(features_downsampled.shape)\n",
    "print(target_downsampled.shape)"
   ]
  },
  {
   "cell_type": "markdown",
   "metadata": {},
   "source": [
    "Дерево решений"
   ]
  },
  {
   "cell_type": "code",
   "execution_count": 99,
   "metadata": {},
   "outputs": [
    {
     "name": "stderr",
     "output_type": "stream",
     "text": [
      "Progress: 100%|██████████| 15/15 [00:45<00:00,  3.02s/it]"
     ]
    },
    {
     "name": "stdout",
     "output_type": "stream",
     "text": [
      "Оптимальная глубина дерева = 7\n",
      "Качество модели -  0.5651214128035321\n",
      "Время выполнения кода =  3.0279159545898438e-05 сек.\n"
     ]
    },
    {
     "name": "stderr",
     "output_type": "stream",
     "text": [
      "\n"
     ]
    }
   ],
   "source": [
    "#дерево решений - подберем лучшие гиперпараметры\n",
    "best_model_dt = None\n",
    "best_depth_dt = 0\n",
    "best_f1_dt = 0\n",
    "for depth in tqdm(range(1, 16), desc='Progress: '):\n",
    "    for leaf in range(2,31):\n",
    "        for sample in range(2,15):\n",
    "            model_tree = DecisionTreeClassifier(max_depth=depth, max_leaf_nodes=leaf, min_samples_split=sample, random_state=12345,class_weight='balanced' )\n",
    "            model_tree.fit(features_downsampled, target_downsampled)\n",
    "            predictions_valid_tree = model_tree.predict(features_valid)\n",
    "            f1_tree = f1_score(target_valid, predictions_valid_tree)\n",
    "            if f1_tree > best_f1_dt:\n",
    "                best_model_dt = model_tree\n",
    "                best_depth_dt = depth\n",
    "                best_f1_dt = f1_tree\n",
    "print('Оптимальная глубина дерева =', best_depth_dt) \n",
    "print('Качество модели - ',  best_f1_dt)\n",
    "\n",
    "start_time = time.time()\n",
    "print('Время выполнения кода = ', (time.time() - start_time), 'сек.')     "
   ]
  },
  {
   "cell_type": "code",
   "execution_count": 100,
   "metadata": {},
   "outputs": [
    {
     "name": "stdout",
     "output_type": "stream",
     "text": [
      "Recall_tree: 0.7735849056603774\n",
      "Precision_tree: 0.4335347432024169\n",
      "F1_tree: 0.5556631171345596\n"
     ]
    }
   ],
   "source": [
    "best_model_dt.fit(features_downsampled, target_downsampled)\n",
    "predictions_valid_tree = model_tree.predict(features_valid)\n",
    "\n",
    "print(\"Recall_tree:\", recall_score(target_valid, predictions_valid_tree))\n",
    "print(\"Precision_tree:\", precision_score(target_valid, predictions_valid_tree))\n",
    "print(\"F1_tree:\", f1_score(target_valid, predictions_valid_tree))"
   ]
  },
  {
   "cell_type": "markdown",
   "metadata": {},
   "source": [
    "Случайный лес"
   ]
  },
  {
   "cell_type": "code",
   "execution_count": 101,
   "metadata": {},
   "outputs": [
    {
     "name": "stderr",
     "output_type": "stream",
     "text": [
      "Progress: 100%|██████████| 10/10 [02:34<00:00, 15.49s/it]"
     ]
    },
    {
     "name": "stdout",
     "output_type": "stream",
     "text": [
      "Оптимальное количество оценок = 401\n",
      "Оптимальная глубина дерева = 8\n",
      "Качество модели -  0.5917686318131257\n",
      "Время выполнения кода =  4.291534423828125e-05 сек.\n"
     ]
    },
    {
     "name": "stderr",
     "output_type": "stream",
     "text": [
      "\n"
     ]
    }
   ],
   "source": [
    "# случайный лес - подберем лучшие гиперпараметры\n",
    "best_model_rf = None\n",
    "best_est_rf = 0\n",
    "best_depth_rf = 0\n",
    "best_f1_rf = 0\n",
    "for est in tqdm(range(1, 1001, 100), desc='Progress: '):\n",
    "    for depth in range(1, 15):\n",
    "        model_forest = RandomForestClassifier(n_estimators=est, max_depth=depth, random_state=12345, n_jobs=-1, class_weight='balanced')\n",
    "        model_forest.fit(features_downsampled, target_downsampled)\n",
    "        prediction_valid_rf = model_forest.predict(features_valid)\n",
    "        f1_forest = f1_score(target_valid, prediction_valid_rf)\n",
    "        if f1_forest > best_f1_rf:\n",
    "            best_model_rf = model_forest\n",
    "            best_est_rf = est\n",
    "            best_depth_rf = depth\n",
    "            best_f1_rf = f1_forest\n",
    "\n",
    "print('Оптимальное количество оценок =', best_est_rf)\n",
    "print('Оптимальная глубина дерева =', best_depth_rf)\n",
    "print('Качество модели - ', best_f1_rf)\n",
    "\n",
    "start_time = time.time()\n",
    "print('Время выполнения кода = ', (time.time() - start_time), 'сек.')"
   ]
  },
  {
   "cell_type": "code",
   "execution_count": 108,
   "metadata": {},
   "outputs": [
    {
     "name": "stdout",
     "output_type": "stream",
     "text": [
      "Recall_forest: 0.7304582210242587\n",
      "Precision_forest: 0.479646017699115\n",
      "F1_forest: 0.579059829059829\n"
     ]
    }
   ],
   "source": [
    "best_model_rf.fit(features_downsampled, target_downsampled)\n",
    "predictions_valid_forest = model_forest.predict(features_valid)\n",
    "\n",
    "print(\"Recall_forest:\", recall_score(target_valid, predictions_valid_forest))\n",
    "print(\"Precision_forest:\", precision_score(target_valid, predictions_valid_forest))\n",
    "print(\"F1_forest:\", f1_score(target_valid, predictions_valid_forest))"
   ]
  },
  {
   "cell_type": "markdown",
   "metadata": {},
   "source": [
    "Логистическая регрессия"
   ]
  },
  {
   "cell_type": "code",
   "execution_count": 109,
   "metadata": {},
   "outputs": [
    {
     "name": "stdout",
     "output_type": "stream",
     "text": [
      "Время выполнения кода =  8.96453857421875e-05 сек.\n",
      "Accuracy_log: 0.7024202420242024\n",
      "Recall_log: 0.6846361185983828\n",
      "Precision_log: 0.3746312684365782\n",
      "F1_log: 0.48427073403241183\n"
     ]
    }
   ],
   "source": [
    "# логистическая регрессия - подберем лучшие гиперпараметры\n",
    "model_log = LogisticRegression(random_state=12345,\n",
    "                               solver='liblinear', class_weight='balanced')\n",
    "# обучаем модель на тренировочной выборке\n",
    "model_log.fit(features_downsampled, target_downsampled)\n",
    "# получаем предсказания на валидационной выборке\n",
    "predictions_valid_log = model_log.predict(features_valid)\n",
    "\n",
    "start_time = time.time()\n",
    "print('Время выполнения кода = ', (time.time() - start_time), 'сек.')\n",
    "print(\"Accuracy_log:\", accuracy_score(target_valid, predictions_valid_log))\n",
    "print(\"Recall_log:\", recall_score(target_valid, predictions_valid_log))\n",
    "print(\"Precision_log:\", precision_score(target_valid, predictions_valid_log))\n",
    "print(\"F1_log:\", f1_score(target_valid, predictions_valid_log))"
   ]
  },
  {
   "cell_type": "markdown",
   "metadata": {},
   "source": [
    "Вывод: уменьшение выборки не помогло увеличить качество моделей, попробуем использовать обратный метод."
   ]
  },
  {
   "cell_type": "markdown",
   "metadata": {},
   "source": [
    "### Увеличение выборки"
   ]
  },
  {
   "cell_type": "code",
   "execution_count": 110,
   "metadata": {},
   "outputs": [
    {
     "name": "stdout",
     "output_type": "stream",
     "text": [
      "(8790, 11)\n",
      "(8790,)\n"
     ]
    }
   ],
   "source": [
    "# увеличим выборку в 4 раза, так как отрицательный класс больше положительного в 4 раза\n",
    "def upsample(features, target, repeat):\n",
    "    features_zeros = features[target == 0]\n",
    "    features_ones = features[target == 1]\n",
    "    target_zeros = target[target == 0]\n",
    "    target_ones = target[target == 1]\n",
    "    \n",
    "    # сцепляем выборки\n",
    "    features_upsampled = pd.concat([features_zeros] + [features_ones] * repeat)\n",
    "    target_upsampled = pd.concat([target_zeros] + [target_ones] * repeat)\n",
    "    \n",
    "    # перемешиваем значения, чтобы они не шли друг за другом \n",
    "    features_upsampled = shuffle(features_upsampled, random_state=12345)\n",
    "    target_upsampled = shuffle(target_upsampled, random_state=12345)\n",
    "    return features_upsampled, target_upsampled\n",
    "\n",
    "features_upsampled, target_upsampled = upsample(features_train, target_train, 4)\n",
    "\n",
    "print(features_upsampled.shape)\n",
    "print(target_upsampled.shape)"
   ]
  },
  {
   "cell_type": "markdown",
   "metadata": {},
   "source": [
    "Дерево решений"
   ]
  },
  {
   "cell_type": "code",
   "execution_count": 107,
   "metadata": {},
   "outputs": [
    {
     "name": "stderr",
     "output_type": "stream",
     "text": [
      "Progress: 100%|██████████| 15/15 [01:38<00:00,  6.58s/it]"
     ]
    },
    {
     "name": "stdout",
     "output_type": "stream",
     "text": [
      "Оптимальная глубина дерева = 7\n",
      "Качество модели -  0.5737704918032787\n",
      "Время выполнения кода =  3.123283386230469e-05 сек.\n"
     ]
    },
    {
     "name": "stderr",
     "output_type": "stream",
     "text": [
      "\n"
     ]
    }
   ],
   "source": [
    "#дерево решений - подберем лучшие гиперпараметры\n",
    "best_model_dt = None\n",
    "best_depth_dt = 0\n",
    "best_f1_dt = 0\n",
    "for depth in tqdm(range(1, 16), desc='Progress: '):\n",
    "    for leaf in range(2,31):\n",
    "        for sample in range(2,15):\n",
    "            model_tree = DecisionTreeClassifier(max_depth=depth, max_leaf_nodes=leaf, min_samples_split=sample, random_state=12345,class_weight='balanced' )\n",
    "            model_tree.fit(features_upsampled, target_upsampled)\n",
    "            predictions_valid_tree = model_tree.predict(features_valid)\n",
    "            f1_tree = f1_score(target_valid, predictions_valid_tree)\n",
    "            if f1_tree > best_f1_dt:\n",
    "                best_model_dt = model_tree\n",
    "                best_depth_dt = depth\n",
    "                best_f1_dt = f1_tree\n",
    "print('Оптимальная глубина дерева =', best_depth_dt) \n",
    "print('Качество модели - ',  best_f1_dt)\n",
    "\n",
    "start_time = time.time()\n",
    "print('Время выполнения кода = ', (time.time() - start_time), 'сек.')     "
   ]
  },
  {
   "cell_type": "code",
   "execution_count": 111,
   "metadata": {},
   "outputs": [
    {
     "name": "stdout",
     "output_type": "stream",
     "text": [
      "Recall_tree: 0.7816711590296496\n",
      "Precision_tree: 0.4420731707317073\n",
      "F1_tree: 0.5647517039922104\n"
     ]
    }
   ],
   "source": [
    "best_model_dt.fit(features_upsampled, target_upsampled)\n",
    "predictions_valid_tree = model_tree.predict(features_valid)\n",
    "\n",
    "print(\"Recall_tree:\", recall_score(target_valid, predictions_valid_tree))\n",
    "print(\"Precision_tree:\", precision_score(target_valid, predictions_valid_tree))\n",
    "print(\"F1_tree:\", f1_score(target_valid, predictions_valid_tree))"
   ]
  },
  {
   "cell_type": "markdown",
   "metadata": {},
   "source": [
    "Случайный лес"
   ]
  },
  {
   "cell_type": "code",
   "execution_count": 112,
   "metadata": {},
   "outputs": [
    {
     "name": "stderr",
     "output_type": "stream",
     "text": [
      "Progress: 100%|██████████| 10/10 [05:46<00:00, 34.61s/it]"
     ]
    },
    {
     "name": "stdout",
     "output_type": "stream",
     "text": [
      "Оптимальное количество оценок = 101\n",
      "Оптимальная глубина дерева = 12\n",
      "Качество модели -  0.6097240473061761\n",
      "Время выполнения кода =  7.915496826171875e-05 сек.\n"
     ]
    },
    {
     "name": "stderr",
     "output_type": "stream",
     "text": [
      "\n"
     ]
    }
   ],
   "source": [
    "# случайный лес - подберем лучшие гиперпараметры\n",
    "best_model_rf = None\n",
    "best_est_rf = 0\n",
    "best_depth_rf = 0\n",
    "best_f1_rf = 0\n",
    "for est in tqdm(range(1, 1001, 100), desc='Progress: '):\n",
    "    for depth in range(1, 15):\n",
    "        model_forest = RandomForestClassifier(n_estimators=est, max_depth=depth, random_state=12345, n_jobs=-1, class_weight='balanced')\n",
    "        model_forest.fit(features_upsampled, target_upsampled)\n",
    "        prediction_valid_rf = model_forest.predict(features_valid)\n",
    "        f1_forest = f1_score(target_valid, prediction_valid_rf)\n",
    "        if f1_forest > best_f1_rf:\n",
    "            best_model_rf = model_forest\n",
    "            best_est_rf = est\n",
    "            best_depth_rf = depth\n",
    "            best_f1_rf = f1_forest\n",
    "\n",
    "print('Оптимальное количество оценок =', best_est_rf)\n",
    "print('Оптимальная глубина дерева =', best_depth_rf)\n",
    "print('Качество модели - ', best_f1_rf)\n",
    "\n",
    "start_time = time.time()\n",
    "print('Время выполнения кода = ', (time.time() - start_time), 'сек.')"
   ]
  },
  {
   "cell_type": "code",
   "execution_count": 113,
   "metadata": {},
   "outputs": [
    {
     "name": "stdout",
     "output_type": "stream",
     "text": [
      "Recall_forest: 0.5768194070080862\n",
      "Precision_forest: 0.6149425287356322\n",
      "F1_forest: 0.5952712100139081\n"
     ]
    }
   ],
   "source": [
    "best_model_rf.fit(features_upsampled, target_upsampled)\n",
    "predictions_valid_forest = model_forest.predict(features_valid)\n",
    "\n",
    "print(\"Recall_forest:\", recall_score(target_valid, predictions_valid_forest))\n",
    "print(\"Precision_forest:\", precision_score(target_valid, predictions_valid_forest))\n",
    "print(\"F1_forest:\", f1_score(target_valid, predictions_valid_forest))"
   ]
  },
  {
   "cell_type": "markdown",
   "metadata": {},
   "source": [
    "Логистическая регрессия"
   ]
  },
  {
   "cell_type": "code",
   "execution_count": 114,
   "metadata": {},
   "outputs": [
    {
     "name": "stdout",
     "output_type": "stream",
     "text": [
      "Время выполнения кода =  8.988380432128906e-05 сек.\n",
      "Accuracy_log: 0.7095709570957096\n",
      "Recall_log: 0.6954177897574124\n",
      "Precision_log: 0.3833580980683507\n",
      "F1_log: 0.4942528735632184\n"
     ]
    }
   ],
   "source": [
    "# логистическая регрессия - подберем лучшие гиперпараметры\n",
    "model_log = LogisticRegression(random_state=12345,\n",
    "                               solver='liblinear', class_weight='balanced')\n",
    "# обучаем модель на тренировочной выборке\n",
    "model_log.fit(features_upsampled, target_upsampled)\n",
    "# получаем предсказания на валидационной выборке\n",
    "predictions_valid_log = model_log.predict(features_valid)\n",
    "\n",
    "start_time = time.time()\n",
    "print('Время выполнения кода = ', (time.time() - start_time), 'сек.')\n",
    "print(\"Accuracy_log:\", accuracy_score(target_valid, predictions_valid_log))\n",
    "print(\"Recall_log:\", recall_score(target_valid, predictions_valid_log))\n",
    "print(\"Precision_log:\", precision_score(target_valid, predictions_valid_log))\n",
    "print(\"F1_log:\", f1_score(target_valid, predictions_valid_log))"
   ]
  },
  {
   "cell_type": "code",
   "execution_count": 115,
   "metadata": {
    "scrolled": true
   },
   "outputs": [
    {
     "data": {
      "text/html": [
       "<div>\n",
       "<style scoped>\n",
       "    .dataframe tbody tr th:only-of-type {\n",
       "        vertical-align: middle;\n",
       "    }\n",
       "\n",
       "    .dataframe tbody tr th {\n",
       "        vertical-align: top;\n",
       "    }\n",
       "\n",
       "    .dataframe thead th {\n",
       "        text-align: right;\n",
       "    }\n",
       "</style>\n",
       "<table border=\"1\" class=\"dataframe\">\n",
       "  <thead>\n",
       "    <tr style=\"text-align: right;\">\n",
       "      <th></th>\n",
       "      <th>Model Name</th>\n",
       "      <th>Initial</th>\n",
       "      <th>Weighing</th>\n",
       "      <th>Downsampling</th>\n",
       "      <th>Upsampling</th>\n",
       "    </tr>\n",
       "  </thead>\n",
       "  <tbody>\n",
       "    <tr>\n",
       "      <th>0</th>\n",
       "      <td>Tree</td>\n",
       "      <td>0.58</td>\n",
       "      <td>0.57</td>\n",
       "      <td>0.55</td>\n",
       "      <td>0.56</td>\n",
       "    </tr>\n",
       "    <tr>\n",
       "      <th>1</th>\n",
       "      <td>Forest</td>\n",
       "      <td>0.58</td>\n",
       "      <td>0.61</td>\n",
       "      <td>0.58</td>\n",
       "      <td>0.59</td>\n",
       "    </tr>\n",
       "    <tr>\n",
       "      <th>2</th>\n",
       "      <td>Log</td>\n",
       "      <td>0.28</td>\n",
       "      <td>0.49</td>\n",
       "      <td>0.48</td>\n",
       "      <td>0.49</td>\n",
       "    </tr>\n",
       "  </tbody>\n",
       "</table>\n",
       "</div>"
      ],
      "text/plain": [
       "  Model Name  Initial  Weighing  Downsampling  Upsampling\n",
       "0       Tree     0.58      0.57          0.55        0.56\n",
       "1     Forest     0.58      0.61          0.58        0.59\n",
       "2        Log     0.28      0.49          0.48        0.49"
      ]
     },
     "execution_count": 115,
     "metadata": {},
     "output_type": "execute_result"
    }
   ],
   "source": [
    "# для удобства соберем все полученные значения метрики F1-score в один датафрейм\n",
    "\n",
    "model_name = ['Tree', 'Forest', 'Log']\n",
    "initial_values = [0.58, 0.58, 0.28]\n",
    "weighting_values = [0.57, 0.61, 0.49]\n",
    "down_values = [0.55, 0.58, 0.48]\n",
    "up_values = [0.56, 0.59, 0.49]\n",
    "\n",
    "df_metrics = pd.DataFrame({'Model Name': model_name,\n",
    "                           'Initial': initial_values,\n",
    "                           'Weighing': weighting_values,\n",
    "                           'Downsampling': down_values,\n",
    "                           'Upsampling': up_values })\n",
    "\n",
    "df_metrics"
   ]
  },
  {
   "cell_type": "markdown",
   "metadata": {},
   "source": [
    "Вывод:\n",
    "\n",
    "Уменьшение и увеличение выборки позволяют достичь примерно одинаковое значение F1-score.\n",
    "Наибольшее значение метрики F1-score получено на модели Случайный лес при помощи взвешивания классов, 0,61, и увеличения выборки, 0,59, что соответствует целевому показателю - 0,59. Для тестирования будем использовать эту модель."
   ]
  },
  {
   "cell_type": "markdown",
   "metadata": {},
   "source": [
    "## Тестирование модели"
   ]
  },
  {
   "cell_type": "markdown",
   "metadata": {},
   "source": [
    "Так как модель Случайного леса показала наилучшее значение метрики F1-score, тестирование будем проводить на ней."
   ]
  },
  {
   "cell_type": "code",
   "execution_count": 116,
   "metadata": {},
   "outputs": [],
   "source": [
    "#new_features_test = pd.concat([features_test, features_valid], axis=0, ignore_index=True)\n",
    "#new_target_test = pd.concat([target_test, target_valid], axis=0, ignore_index=True)\n",
    "#target_train.shape"
   ]
  },
  {
   "cell_type": "code",
   "execution_count": 122,
   "metadata": {},
   "outputs": [
    {
     "name": "stdout",
     "output_type": "stream",
     "text": [
      "Recall_forest: 0.6388140161725068\n",
      "Precision_forest: 0.6236842105263158\n",
      "F1_tree: 0.6311584553928096\n",
      "ROC-AUC_forest: 0.8553670086819258\n"
     ]
    }
   ],
   "source": [
    "# проверяем модель с наилучшим значением f1-score\n",
    "best_model_rfw.fit(features_train, target_train)\n",
    "predictions_test_forest = best_model_rfw.predict(features_test)\n",
    "\n",
    "print(\"Recall_forest:\", recall_score(target_test, predictions_test_forest))\n",
    "print(\"Precision_forest:\", precision_score(target_test, predictions_test_forest))\n",
    "print(\"F1_tree:\", f1_score(target_test, predictions_test_forest))\n",
    "\n",
    "probabilities_test = best_model_rfw.predict_proba(features_test)\n",
    "probabilities_one_test = probabilities_test[:, 1]\n",
    "print(\"ROC-AUC_forest:\", roc_auc_score(target_test, probabilities_one_test))"
   ]
  },
  {
   "cell_type": "markdown",
   "metadata": {},
   "source": [
    "Проверив модель случайного леса на тестовой выборке, получили знчение F1-меры 0,63. Это хороший показатель. ROC-AUC = 0,86, это значение выше F1-меры, что говорит о хорошем качестве модели.   "
   ]
  },
  {
   "cell_type": "code",
   "execution_count": 124,
   "metadata": {},
   "outputs": [
    {
     "data": {
      "image/png": "[encoded data removed]",
      "text/plain": [
       "<Figure size 432x288 with 1 Axes>"
      ]
     },
     "metadata": {
      "needs_background": "light"
     },
     "output_type": "display_data"
    }
   ],
   "source": [
    "fpr, tpr, thresholds = roc_curve(target_test, probabilities_one_test) \n",
    "\n",
    "plt.figure()\n",
    "plt.plot(fpr, tpr, linestyle='solid')\n",
    "plt.plot([0, 1], [0, 1], linestyle='--')\n",
    "plt.xlim([0.0, 1.0])\n",
    "plt.ylim([0.0, 1.0])\n",
    "plt.xlabel('False Positive Rate')\n",
    "plt.ylabel('True Positive Rate')\n",
    "plt.title('ROC-кривая')\n",
    "plt.show()"
   ]
  },
  {
   "cell_type": "markdown",
   "metadata": {},
   "source": [
    "Проверим адекватность финальной модели."
   ]
  },
  {
   "cell_type": "code",
   "execution_count": 125,
   "metadata": {},
   "outputs": [],
   "source": [
    "#Создаем константную модель\n",
    "target_predict_constant = pd.Series([0]*len(target_test))"
   ]
  },
  {
   "cell_type": "code",
   "execution_count": 126,
   "metadata": {},
   "outputs": [
    {
     "name": "stdout",
     "output_type": "stream",
     "text": [
      "accuracy_score константой модели: 0.7960417811984607\n",
      "accuracy_score финальной модели: 0.8477185266630016\n",
      "AUC-ROC константой модели: 0.5\n",
      "AUC-ROC финальной модели: 0.8553670086819258\n"
     ]
    }
   ],
   "source": [
    "#Сравним показатель точности (accuracy_score) константной модели и финальной\n",
    "print('accuracy_score константой модели:', accuracy_score(target_test, target_predict_constant))\n",
    "print('accuracy_score финальной модели:', accuracy_score(target_test, predictions_test_forest))\n",
    "#Дополнительно сравним AUC-ROC\n",
    "print('AUC-ROC константой модели:', roc_auc_score(target_test, target_predict_constant))\n",
    "print('AUC-ROC финальной модели:', roc_auc_score(target_test, probabilities_one_test))"
   ]
  },
  {
   "cell_type": "markdown",
   "metadata": {},
   "source": [
    "Финальная модель показывает результаты лучше, чем константная модель — модель можно считать адекватной."
   ]
  },
  {
   "cell_type": "markdown",
   "metadata": {},
   "source": [
    "## Финальный вывод\n",
    "\n",
    "Нам были предоставлены  данные о поведении клиентов и расторжении договоров с банком. Нужно было спрогнозировать, уйдет клиент или нет.  \n",
    "\n",
    "В первоначальные данных наблюдался значительный дисбаланс (80% ответов целевого признака были негативными и только 20% позитивными), из-за чего обученная на этих данных модель не проходила проверку на адекватность. Все модели не первоначальных данных характеризовались высокой степенью ошибок и низким качеством взвешенной величины (F1) — модели показывали низкие результаты точности и полноты.\n",
    "Мы разобрали  несколько вариантов борьбы с дисбалансом, в итоге устранили дисбаланс классов в обучающей выборки методом взвешивания. \n",
    "\n",
    "На новых данных все модели показали результат выше, чем на несбалансированной выборке. Лучшие показатели были у модели случайного леса:\n",
    "\n",
    "\n",
    "Recall: 0.6388140161725068\n",
    "\n",
    "Precision: 0.6236842105263158\n",
    "\n",
    "F1_score:  0.6311584553928096\n",
    "\n",
    "ROC-AUC: 0.8553670086819258\n",
    "\n",
    "\n",
    "Финальная модель также прошла проверку на адекватность в сравнении с контантной моделью: \n",
    "\n",
    "accuracy_score константой модели: 0.7960\n",
    "\n",
    "accuracy_score финальной модели: 0.8477\n",
    "\n",
    "AUC-ROC константой модели: 0.5\n",
    "\n",
    "AUC-ROC финальной модели: 0.8553\n",
    "\n",
    "\n",
    "\n",
    "Таким образом, значения ключевых метрик получились следующие:\n",
    "\n",
    "F1-score = 0.63 (выше необходимого значения)\n",
    "\n",
    "AUC-ROC = 0.86 (достаточно близко к единице)"
   ]
  },
  {
   "cell_type": "markdown",
   "metadata": {},
   "source": [
    "## Чек-лист готовности проекта"
   ]
  },
  {
   "cell_type": "markdown",
   "metadata": {},
   "source": [
    "Поставьте 'x' в выполненных пунктах. Далее нажмите Shift+Enter."
   ]
  },
  {
   "cell_type": "markdown",
   "metadata": {},
   "source": [
    "- [x]  Jupyter Notebook открыт\n",
    "- [ ]  Весь код выполняется без ошибок\n",
    "- [ ]  Ячейки с кодом расположены в порядке исполнения\n",
    "- [ ]  Выполнен шаг 1: данные подготовлены\n",
    "- [ ]  Выполнен шаг 2: задача исследована\n",
    "    - [ ]  Исследован баланс классов\n",
    "    - [ ]  Изучены модели без учёта дисбаланса\n",
    "    - [ ]  Написаны выводы по результатам исследования\n",
    "- [ ]  Выполнен шаг 3: учтён дисбаланс\n",
    "    - [ ]  Применено несколько способов борьбы с дисбалансом\n",
    "    - [ ]  Написаны выводы по результатам исследования\n",
    "- [ ]  Выполнен шаг 4: проведено тестирование\n",
    "- [ ]  Удалось достичь *F1*-меры не менее 0.59\n",
    "- [ ]  Исследована метрика *AUC-ROC*"
   ]
  },
  {
   "cell_type": "code",
   "execution_count": null,
   "metadata": {},
   "outputs": [],
   "source": [
    " Ссылка на репозиторий https://github.com/MarySol83/second-project.git"
   ]
  }
 ],
 "metadata": {
  "ExecuteTimeLog": [
   {
    "duration": 48,
    "start_time": "2023-05-03T02:38:21.996Z"
   },
   {
    "duration": 1788,
    "start_time": "2023-05-03T02:38:25.936Z"
   },
   {
    "duration": 190,
    "start_time": "2023-05-03T02:38:27.726Z"
   },
   {
    "duration": 17,
    "start_time": "2023-05-03T02:38:27.917Z"
   },
   {
    "duration": 16,
    "start_time": "2023-05-03T02:39:08.863Z"
   },
   {
    "duration": 41,
    "start_time": "2023-05-03T02:39:25.826Z"
   },
   {
    "duration": 8,
    "start_time": "2023-05-03T02:50:24.875Z"
   },
   {
    "duration": 4,
    "start_time": "2023-05-03T02:51:19.635Z"
   },
   {
    "duration": 8,
    "start_time": "2023-05-03T02:51:32.243Z"
   },
   {
    "duration": 1138,
    "start_time": "2023-05-03T02:52:40.580Z"
   },
   {
    "duration": 11,
    "start_time": "2023-05-03T02:54:28.092Z"
   },
   {
    "duration": 6,
    "start_time": "2023-05-03T02:57:59.478Z"
   },
   {
    "duration": 4,
    "start_time": "2023-05-03T02:58:13.974Z"
   },
   {
    "duration": 9,
    "start_time": "2023-05-03T02:59:11.838Z"
   },
   {
    "duration": 14,
    "start_time": "2023-05-03T02:59:24.286Z"
   },
   {
    "duration": 10,
    "start_time": "2023-05-03T03:01:05.504Z"
   },
   {
    "duration": 14,
    "start_time": "2023-05-03T03:01:44.055Z"
   },
   {
    "duration": 11,
    "start_time": "2023-05-03T03:01:58.696Z"
   },
   {
    "duration": 4,
    "start_time": "2023-05-03T03:02:46.217Z"
   },
   {
    "duration": 5,
    "start_time": "2023-05-03T03:03:17.217Z"
   },
   {
    "duration": 3,
    "start_time": "2023-05-03T03:03:41.897Z"
   },
   {
    "duration": 5,
    "start_time": "2023-05-03T03:03:54.248Z"
   },
   {
    "duration": 4,
    "start_time": "2023-05-03T03:04:06.408Z"
   },
   {
    "duration": 101,
    "start_time": "2023-05-03T03:05:39.797Z"
   },
   {
    "duration": 10,
    "start_time": "2023-05-03T03:26:04.890Z"
   },
   {
    "duration": 133,
    "start_time": "2023-05-03T03:30:10.292Z"
   },
   {
    "duration": 21,
    "start_time": "2023-05-03T03:31:35.990Z"
   },
   {
    "duration": 9,
    "start_time": "2023-05-03T03:31:49.597Z"
   },
   {
    "duration": 18518,
    "start_time": "2023-05-03T03:32:38.610Z"
   },
   {
    "duration": 313,
    "start_time": "2023-05-03T03:34:02.544Z"
   },
   {
    "duration": 12,
    "start_time": "2023-05-03T03:34:03.087Z"
   },
   {
    "duration": 43,
    "start_time": "2023-05-03T03:34:38.294Z"
   },
   {
    "duration": 9,
    "start_time": "2023-05-03T03:34:53.454Z"
   },
   {
    "duration": 123,
    "start_time": "2023-05-03T03:39:08.728Z"
   },
   {
    "duration": 243,
    "start_time": "2023-05-03T03:39:42.001Z"
   },
   {
    "duration": 284,
    "start_time": "2023-05-03T03:39:55.768Z"
   },
   {
    "duration": 139,
    "start_time": "2023-05-03T03:42:35.891Z"
   },
   {
    "duration": 20,
    "start_time": "2023-05-03T03:43:04.244Z"
   },
   {
    "duration": 13,
    "start_time": "2023-05-03T03:43:16.315Z"
   },
   {
    "duration": 17858,
    "start_time": "2023-05-03T03:44:22.226Z"
   },
   {
    "duration": 498,
    "start_time": "2023-05-03T03:44:40.086Z"
   },
   {
    "duration": 49,
    "start_time": "2023-05-03T03:44:40.586Z"
   },
   {
    "duration": 185,
    "start_time": "2023-05-03T03:45:18.154Z"
   },
   {
    "duration": 14,
    "start_time": "2023-05-03T03:46:00.906Z"
   },
   {
    "duration": 14,
    "start_time": "2023-05-03T03:46:20.771Z"
   },
   {
    "duration": 87,
    "start_time": "2023-05-03T03:46:43.007Z"
   },
   {
    "duration": 22,
    "start_time": "2023-05-03T03:46:55.562Z"
   },
   {
    "duration": 11863,
    "start_time": "2023-05-03T03:47:24.747Z"
   },
   {
    "duration": 47,
    "start_time": "2023-05-03T03:47:43.876Z"
   },
   {
    "duration": 117,
    "start_time": "2023-05-03T03:48:08.331Z"
   },
   {
    "duration": 14,
    "start_time": "2023-05-03T03:48:48.405Z"
   },
   {
    "duration": 177,
    "start_time": "2023-05-03T03:49:10.747Z"
   },
   {
    "duration": 33,
    "start_time": "2023-05-03T03:49:24.820Z"
   },
   {
    "duration": 23714,
    "start_time": "2023-05-03T03:50:21.045Z"
   },
   {
    "duration": 129,
    "start_time": "2023-05-03T03:50:44.762Z"
   },
   {
    "duration": 202,
    "start_time": "2023-05-03T03:51:03.932Z"
   },
   {
    "duration": 11,
    "start_time": "2023-05-03T03:51:22.176Z"
   },
   {
    "duration": 7,
    "start_time": "2023-05-03T03:54:28.183Z"
   },
   {
    "duration": 4,
    "start_time": "2023-05-03T03:54:39.205Z"
   },
   {
    "duration": 4,
    "start_time": "2023-05-03T03:54:52.734Z"
   },
   {
    "duration": 18498,
    "start_time": "2023-05-03T03:55:21.695Z"
   },
   {
    "duration": 596,
    "start_time": "2023-05-03T03:55:40.195Z"
   },
   {
    "duration": 109,
    "start_time": "2023-05-03T03:55:52.416Z"
   },
   {
    "duration": 1719,
    "start_time": "2023-05-05T03:35:18.657Z"
   },
   {
    "duration": 271,
    "start_time": "2023-05-05T03:35:20.377Z"
   },
   {
    "duration": 21,
    "start_time": "2023-05-05T03:35:21.063Z"
   },
   {
    "duration": 13,
    "start_time": "2023-05-05T03:35:24.781Z"
   },
   {
    "duration": 35,
    "start_time": "2023-05-05T03:35:26.318Z"
   },
   {
    "duration": 7,
    "start_time": "2023-05-05T03:35:28.582Z"
   },
   {
    "duration": 4,
    "start_time": "2023-05-05T03:35:31.214Z"
   },
   {
    "duration": 7,
    "start_time": "2023-05-05T03:35:32.254Z"
   },
   {
    "duration": 12,
    "start_time": "2023-05-05T03:35:33.159Z"
   },
   {
    "duration": 1263,
    "start_time": "2023-05-05T03:35:33.934Z"
   },
   {
    "duration": 7,
    "start_time": "2023-05-05T03:38:11.000Z"
   },
   {
    "duration": 16,
    "start_time": "2023-05-05T03:38:11.696Z"
   },
   {
    "duration": 4,
    "start_time": "2023-05-05T03:38:18.263Z"
   },
   {
    "duration": 4,
    "start_time": "2023-05-05T03:38:19.025Z"
   },
   {
    "duration": 9,
    "start_time": "2023-05-05T03:38:20.967Z"
   },
   {
    "duration": 12,
    "start_time": "2023-05-05T03:38:25.445Z"
   },
   {
    "duration": 11,
    "start_time": "2023-05-05T03:38:45.480Z"
   },
   {
    "duration": 9,
    "start_time": "2023-05-05T03:38:59.753Z"
   },
   {
    "duration": 15,
    "start_time": "2023-05-05T03:39:00.480Z"
   },
   {
    "duration": 13,
    "start_time": "2023-05-05T03:39:01.786Z"
   },
   {
    "duration": 4,
    "start_time": "2023-05-05T03:39:08.492Z"
   },
   {
    "duration": 3,
    "start_time": "2023-05-05T03:39:09.067Z"
   },
   {
    "duration": 3,
    "start_time": "2023-05-05T03:39:09.448Z"
   },
   {
    "duration": 3,
    "start_time": "2023-05-05T03:39:09.923Z"
   },
   {
    "duration": 3,
    "start_time": "2023-05-05T03:39:10.372Z"
   },
   {
    "duration": 102,
    "start_time": "2023-05-05T03:39:51.280Z"
   },
   {
    "duration": 5,
    "start_time": "2023-05-05T03:40:17.504Z"
   },
   {
    "duration": 108,
    "start_time": "2023-05-05T03:41:37.737Z"
   },
   {
    "duration": 5,
    "start_time": "2023-05-05T03:42:47.340Z"
   },
   {
    "duration": 4,
    "start_time": "2023-05-05T03:42:52.835Z"
   },
   {
    "duration": 100,
    "start_time": "2023-05-05T03:50:13.428Z"
   },
   {
    "duration": 5,
    "start_time": "2023-05-05T03:50:16.272Z"
   },
   {
    "duration": 3,
    "start_time": "2023-05-05T03:52:21.685Z"
   },
   {
    "duration": 129,
    "start_time": "2023-05-05T03:53:08.023Z"
   },
   {
    "duration": 21,
    "start_time": "2023-05-05T03:53:09.396Z"
   },
   {
    "duration": 9,
    "start_time": "2023-05-05T03:53:10.508Z"
   },
   {
    "duration": 17329,
    "start_time": "2023-05-05T03:53:12.476Z"
   },
   {
    "duration": 316,
    "start_time": "2023-05-05T03:53:29.807Z"
   },
   {
    "duration": 8,
    "start_time": "2023-05-05T03:53:30.125Z"
   },
   {
    "duration": 28,
    "start_time": "2023-05-05T03:53:43.110Z"
   },
   {
    "duration": 9,
    "start_time": "2023-05-05T03:53:45.956Z"
   },
   {
    "duration": 118,
    "start_time": "2023-05-05T03:56:12.486Z"
   },
   {
    "duration": 139,
    "start_time": "2023-05-05T03:56:13.605Z"
   },
   {
    "duration": 278,
    "start_time": "2023-05-05T03:56:14.621Z"
   },
   {
    "duration": 159,
    "start_time": "2023-05-05T03:59:30.417Z"
   },
   {
    "duration": 21,
    "start_time": "2023-05-05T03:59:31.623Z"
   },
   {
    "duration": 12,
    "start_time": "2023-05-05T03:59:32.438Z"
   },
   {
    "duration": 18334,
    "start_time": "2023-05-05T03:59:34.015Z"
   },
   {
    "duration": 488,
    "start_time": "2023-05-05T03:59:52.351Z"
   },
   {
    "duration": 55,
    "start_time": "2023-05-05T03:59:52.840Z"
   },
   {
    "duration": 295,
    "start_time": "2023-05-05T03:59:53.000Z"
   },
   {
    "duration": 138,
    "start_time": "2023-05-05T04:01:07.972Z"
   },
   {
    "duration": 21,
    "start_time": "2023-05-05T04:01:16.668Z"
   },
   {
    "duration": 13,
    "start_time": "2023-05-05T04:01:17.808Z"
   },
   {
    "duration": 18350,
    "start_time": "2023-05-05T04:01:19.528Z"
   },
   {
    "duration": 497,
    "start_time": "2023-05-05T04:01:37.880Z"
   },
   {
    "duration": 17,
    "start_time": "2023-05-05T04:01:38.379Z"
   },
   {
    "duration": 159,
    "start_time": "2023-05-05T04:01:38.398Z"
   },
   {
    "duration": 20,
    "start_time": "2023-05-05T04:01:38.559Z"
   },
   {
    "duration": 12,
    "start_time": "2023-05-05T04:01:39.303Z"
   },
   {
    "duration": 17738,
    "start_time": "2023-05-05T04:01:41.032Z"
   },
   {
    "duration": 535,
    "start_time": "2023-05-05T04:01:58.772Z"
   },
   {
    "duration": 54,
    "start_time": "2023-05-05T04:01:59.308Z"
   },
   {
    "duration": 133,
    "start_time": "2023-05-05T04:01:59.365Z"
   },
   {
    "duration": 102,
    "start_time": "2023-05-05T04:01:59.500Z"
   },
   {
    "duration": 134,
    "start_time": "2023-05-05T04:01:59.604Z"
   },
   {
    "duration": 27,
    "start_time": "2023-05-05T04:01:59.739Z"
   },
   {
    "duration": 12120,
    "start_time": "2023-05-05T04:01:59.767Z"
   },
   {
    "duration": 58,
    "start_time": "2023-05-05T04:02:11.888Z"
   },
   {
    "duration": 54,
    "start_time": "2023-05-05T04:02:11.947Z"
   },
   {
    "duration": 12,
    "start_time": "2023-05-05T04:02:37.752Z"
   },
   {
    "duration": 164,
    "start_time": "2023-05-05T04:02:39.456Z"
   },
   {
    "duration": 37,
    "start_time": "2023-05-05T04:02:39.979Z"
   },
   {
    "duration": 23784,
    "start_time": "2023-05-05T04:02:41.041Z"
   },
   {
    "duration": 101,
    "start_time": "2023-05-05T04:03:04.827Z"
   },
   {
    "duration": 165,
    "start_time": "2023-05-05T04:03:04.930Z"
   },
   {
    "duration": 98,
    "start_time": "2023-05-05T04:03:05.100Z"
   },
   {
    "duration": 8,
    "start_time": "2023-05-05T04:11:51.947Z"
   },
   {
    "duration": 10,
    "start_time": "2023-05-05T04:12:08.995Z"
   },
   {
    "duration": 109,
    "start_time": "2023-05-05T04:12:20.585Z"
   },
   {
    "duration": 10,
    "start_time": "2023-05-05T04:15:25.524Z"
   },
   {
    "duration": 19236,
    "start_time": "2023-05-05T04:15:26.886Z"
   },
   {
    "duration": 531,
    "start_time": "2023-05-05T04:15:46.124Z"
   },
   {
    "duration": 10,
    "start_time": "2023-05-05T04:15:46.656Z"
   },
   {
    "duration": 194,
    "start_time": "2023-05-05T04:15:46.808Z"
   },
   {
    "duration": 13,
    "start_time": "2023-05-05T04:16:00.932Z"
   },
   {
    "duration": 24,
    "start_time": "2023-05-05T04:16:12.182Z"
   },
   {
    "duration": 11824,
    "start_time": "2023-05-05T04:16:16.574Z"
   },
   {
    "duration": 45,
    "start_time": "2023-05-05T04:16:28.400Z"
   },
   {
    "duration": 30,
    "start_time": "2023-05-05T04:16:30.853Z"
   },
   {
    "duration": 12,
    "start_time": "2023-05-05T04:16:53.985Z"
   },
   {
    "duration": 177,
    "start_time": "2023-05-05T04:16:58.087Z"
   },
   {
    "duration": 37,
    "start_time": "2023-05-05T04:17:04.084Z"
   },
   {
    "duration": 24916,
    "start_time": "2023-05-05T04:17:09.631Z"
   },
   {
    "duration": 92,
    "start_time": "2023-05-05T04:17:34.549Z"
   },
   {
    "duration": 152,
    "start_time": "2023-05-05T04:17:34.643Z"
   },
   {
    "duration": 101,
    "start_time": "2023-05-05T04:17:34.797Z"
   },
   {
    "duration": 7,
    "start_time": "2023-05-05T04:21:57.581Z"
   },
   {
    "duration": 4,
    "start_time": "2023-05-05T04:21:58.471Z"
   },
   {
    "duration": 4,
    "start_time": "2023-05-05T04:21:59.044Z"
   },
   {
    "duration": 17931,
    "start_time": "2023-05-05T04:22:00.440Z"
   },
   {
    "duration": 569,
    "start_time": "2023-05-05T04:22:18.373Z"
   },
   {
    "duration": 114,
    "start_time": "2023-05-05T04:22:18.944Z"
   },
   {
    "duration": 64,
    "start_time": "2023-05-05T04:37:57.672Z"
   },
   {
    "duration": 125,
    "start_time": "2023-05-05T04:38:14.702Z"
   },
   {
    "duration": 23,
    "start_time": "2023-05-05T04:39:48.485Z"
   },
   {
    "duration": 12,
    "start_time": "2023-05-05T04:40:16.493Z"
   },
   {
    "duration": 13,
    "start_time": "2023-05-05T04:40:20.877Z"
   },
   {
    "duration": 19,
    "start_time": "2023-05-05T04:41:29.813Z"
   },
   {
    "duration": 12,
    "start_time": "2023-05-05T04:43:42.575Z"
   },
   {
    "duration": 13,
    "start_time": "2023-05-05T04:46:17.218Z"
   },
   {
    "duration": 3,
    "start_time": "2023-05-05T04:46:25.896Z"
   },
   {
    "duration": 12,
    "start_time": "2023-05-05T04:46:26.881Z"
   },
   {
    "duration": 4,
    "start_time": "2023-05-05T04:46:40.670Z"
   },
   {
    "duration": 5,
    "start_time": "2023-05-05T04:46:41.439Z"
   },
   {
    "duration": 16,
    "start_time": "2023-05-05T04:47:21.447Z"
   },
   {
    "duration": 4,
    "start_time": "2023-05-05T04:50:09.953Z"
   },
   {
    "duration": 10,
    "start_time": "2023-05-05T04:52:17.922Z"
   },
   {
    "duration": 5,
    "start_time": "2023-05-05T05:09:34.992Z"
   },
   {
    "duration": 179,
    "start_time": "2023-05-05T05:09:35.887Z"
   },
   {
    "duration": 14,
    "start_time": "2023-05-05T05:09:36.608Z"
   },
   {
    "duration": 12,
    "start_time": "2023-05-05T05:09:38.207Z"
   },
   {
    "duration": 35,
    "start_time": "2023-05-05T05:09:38.816Z"
   },
   {
    "duration": 8,
    "start_time": "2023-05-05T05:09:39.407Z"
   },
   {
    "duration": 3,
    "start_time": "2023-05-05T05:09:40.583Z"
   },
   {
    "duration": 7,
    "start_time": "2023-05-05T05:09:41.159Z"
   },
   {
    "duration": 10,
    "start_time": "2023-05-05T05:09:41.775Z"
   },
   {
    "duration": 4,
    "start_time": "2023-05-05T05:09:43.079Z"
   },
   {
    "duration": 4,
    "start_time": "2023-05-05T05:09:43.623Z"
   },
   {
    "duration": 9,
    "start_time": "2023-05-05T05:09:45.019Z"
   },
   {
    "duration": 12,
    "start_time": "2023-05-05T05:09:45.617Z"
   },
   {
    "duration": 11,
    "start_time": "2023-05-05T05:09:46.641Z"
   },
   {
    "duration": 12,
    "start_time": "2023-05-05T05:09:47.295Z"
   },
   {
    "duration": 11,
    "start_time": "2023-05-05T05:09:48.048Z"
   },
   {
    "duration": 3,
    "start_time": "2023-05-05T05:09:50.007Z"
   },
   {
    "duration": 3,
    "start_time": "2023-05-05T05:09:50.631Z"
   },
   {
    "duration": 4,
    "start_time": "2023-05-05T05:09:51.176Z"
   },
   {
    "duration": 4,
    "start_time": "2023-05-05T05:09:51.735Z"
   },
   {
    "duration": 4,
    "start_time": "2023-05-05T05:09:52.335Z"
   },
   {
    "duration": 95,
    "start_time": "2023-05-05T05:09:56.090Z"
   },
   {
    "duration": 5,
    "start_time": "2023-05-05T05:09:58.103Z"
   },
   {
    "duration": 153,
    "start_time": "2023-05-05T05:10:00.993Z"
   },
   {
    "duration": 10,
    "start_time": "2023-05-05T05:12:05.040Z"
   },
   {
    "duration": 3175,
    "start_time": "2023-05-05T07:52:26.168Z"
   },
   {
    "duration": 251,
    "start_time": "2023-05-05T07:52:29.345Z"
   },
   {
    "duration": 20,
    "start_time": "2023-05-05T07:52:29.597Z"
   },
   {
    "duration": 15,
    "start_time": "2023-05-05T07:52:29.619Z"
   },
   {
    "duration": 61,
    "start_time": "2023-05-05T07:52:29.636Z"
   },
   {
    "duration": 8,
    "start_time": "2023-05-05T07:52:29.699Z"
   },
   {
    "duration": 7,
    "start_time": "2023-05-05T07:52:29.709Z"
   },
   {
    "duration": 9,
    "start_time": "2023-05-05T07:52:29.718Z"
   },
   {
    "duration": 16,
    "start_time": "2023-05-05T07:52:29.729Z"
   },
   {
    "duration": 5,
    "start_time": "2023-05-05T07:52:29.748Z"
   },
   {
    "duration": 38,
    "start_time": "2023-05-05T07:52:29.755Z"
   },
   {
    "duration": 12,
    "start_time": "2023-05-05T07:52:29.795Z"
   },
   {
    "duration": 15,
    "start_time": "2023-05-05T07:52:29.809Z"
   },
   {
    "duration": 14,
    "start_time": "2023-05-05T07:52:29.826Z"
   },
   {
    "duration": 51,
    "start_time": "2023-05-05T07:52:29.842Z"
   },
   {
    "duration": 17,
    "start_time": "2023-05-05T07:52:29.895Z"
   },
   {
    "duration": 15,
    "start_time": "2023-05-05T07:52:29.914Z"
   },
   {
    "duration": 10,
    "start_time": "2023-05-05T07:52:29.930Z"
   },
   {
    "duration": 10,
    "start_time": "2023-05-05T07:52:29.942Z"
   },
   {
    "duration": 7,
    "start_time": "2023-05-05T07:52:29.954Z"
   },
   {
    "duration": 4,
    "start_time": "2023-05-05T07:52:29.963Z"
   },
   {
    "duration": 165,
    "start_time": "2023-05-05T07:52:29.968Z"
   },
   {
    "duration": 5,
    "start_time": "2023-05-05T07:52:30.134Z"
   },
   {
    "duration": 202,
    "start_time": "2023-05-05T07:52:30.141Z"
   },
   {
    "duration": 23,
    "start_time": "2023-05-05T07:52:30.345Z"
   },
   {
    "duration": 148,
    "start_time": "2023-05-05T07:52:30.370Z"
   },
   {
    "duration": 23540,
    "start_time": "2023-05-05T07:52:30.520Z"
   },
   {
    "duration": 359,
    "start_time": "2023-05-05T07:52:54.064Z"
   },
   {
    "duration": 9,
    "start_time": "2023-05-05T07:52:54.425Z"
   },
   {
    "duration": 59,
    "start_time": "2023-05-05T07:52:54.436Z"
   },
   {
    "duration": 101,
    "start_time": "2023-05-05T07:52:54.497Z"
   },
   {
    "duration": 153,
    "start_time": "2023-05-05T07:52:54.690Z"
   },
   {
    "duration": 184,
    "start_time": "2023-05-05T07:52:54.845Z"
   },
   {
    "duration": 288,
    "start_time": "2023-05-05T07:52:55.030Z"
   },
   {
    "duration": 179,
    "start_time": "2023-05-05T07:52:55.320Z"
   },
   {
    "duration": 23,
    "start_time": "2023-05-05T07:52:55.500Z"
   },
   {
    "duration": 9,
    "start_time": "2023-05-05T07:52:55.525Z"
   },
   {
    "duration": 21500,
    "start_time": "2023-05-05T07:52:55.536Z"
   },
   {
    "duration": 595,
    "start_time": "2023-05-05T07:53:17.038Z"
   },
   {
    "duration": 10,
    "start_time": "2023-05-05T07:53:17.635Z"
   },
   {
    "duration": 55,
    "start_time": "2023-05-05T07:53:17.646Z"
   },
   {
    "duration": 187,
    "start_time": "2023-05-05T07:53:17.703Z"
   },
   {
    "duration": 114,
    "start_time": "2023-05-05T07:53:17.893Z"
   },
   {
    "duration": 20,
    "start_time": "2023-05-05T07:53:18.009Z"
   },
   {
    "duration": 13238,
    "start_time": "2023-05-05T07:53:18.031Z"
   },
   {
    "duration": 52,
    "start_time": "2023-05-05T07:53:31.271Z"
   },
   {
    "duration": 65,
    "start_time": "2023-05-05T07:53:31.325Z"
   },
   {
    "duration": 119,
    "start_time": "2023-05-05T07:53:31.392Z"
   },
   {
    "duration": 236,
    "start_time": "2023-05-05T07:53:31.513Z"
   },
   {
    "duration": 46,
    "start_time": "2023-05-05T07:53:31.751Z"
   },
   {
    "duration": 27969,
    "start_time": "2023-05-05T07:53:31.799Z"
   },
   {
    "duration": 105,
    "start_time": "2023-05-05T07:53:59.770Z"
   },
   {
    "duration": 116,
    "start_time": "2023-05-05T07:53:59.877Z"
   },
   {
    "duration": 99,
    "start_time": "2023-05-05T07:53:59.995Z"
   },
   {
    "duration": 27,
    "start_time": "2023-05-05T07:54:00.096Z"
   },
   {
    "duration": 14,
    "start_time": "2023-05-05T07:54:00.124Z"
   },
   {
    "duration": 15,
    "start_time": "2023-05-05T07:54:00.140Z"
   },
   {
    "duration": 21259,
    "start_time": "2023-05-05T07:54:00.157Z"
   },
   {
    "duration": 723,
    "start_time": "2023-05-05T07:54:21.418Z"
   },
   {
    "duration": 136,
    "start_time": "2023-05-05T07:54:22.143Z"
   },
   {
    "duration": 9,
    "start_time": "2023-05-05T07:54:22.281Z"
   },
   {
    "duration": 12,
    "start_time": "2023-05-05T07:54:22.291Z"
   },
   {
    "duration": 51,
    "start_time": "2023-05-08T04:53:54.174Z"
   },
   {
    "duration": 2439,
    "start_time": "2023-05-08T04:54:03.662Z"
   },
   {
    "duration": 122,
    "start_time": "2023-05-08T04:54:06.103Z"
   },
   {
    "duration": 30,
    "start_time": "2023-05-08T04:54:07.162Z"
   },
   {
    "duration": 26,
    "start_time": "2023-05-08T04:54:08.932Z"
   },
   {
    "duration": 76,
    "start_time": "2023-05-08T04:54:10.331Z"
   },
   {
    "duration": 11,
    "start_time": "2023-05-08T04:54:10.855Z"
   },
   {
    "duration": 6,
    "start_time": "2023-05-08T04:54:12.969Z"
   },
   {
    "duration": 7,
    "start_time": "2023-05-08T04:54:19.425Z"
   },
   {
    "duration": 5,
    "start_time": "2023-05-08T04:54:38.316Z"
   },
   {
    "duration": 25,
    "start_time": "2023-05-08T04:54:42.532Z"
   },
   {
    "duration": 156,
    "start_time": "2023-05-08T04:54:51.432Z"
   },
   {
    "duration": 11,
    "start_time": "2023-05-08T04:54:55.019Z"
   },
   {
    "duration": 7,
    "start_time": "2023-05-08T04:55:07.354Z"
   },
   {
    "duration": 18,
    "start_time": "2023-05-08T04:55:12.632Z"
   },
   {
    "duration": 11,
    "start_time": "2023-05-08T04:57:55.170Z"
   },
   {
    "duration": 7,
    "start_time": "2023-05-08T04:57:58.121Z"
   },
   {
    "duration": 20,
    "start_time": "2023-05-08T05:03:04.530Z"
   },
   {
    "duration": 8,
    "start_time": "2023-05-08T05:11:37.271Z"
   },
   {
    "duration": 8,
    "start_time": "2023-05-08T05:13:25.982Z"
   },
   {
    "duration": 12,
    "start_time": "2023-05-08T05:19:31.319Z"
   },
   {
    "duration": 14,
    "start_time": "2023-05-08T05:19:33.215Z"
   },
   {
    "duration": 182,
    "start_time": "2023-05-08T05:20:11.899Z"
   },
   {
    "duration": 11,
    "start_time": "2023-05-08T05:29:33.255Z"
   },
   {
    "duration": 11,
    "start_time": "2023-05-08T05:29:51.989Z"
   },
   {
    "duration": 15,
    "start_time": "2023-05-08T05:32:14.265Z"
   },
   {
    "duration": 16,
    "start_time": "2023-05-08T05:32:53.521Z"
   },
   {
    "duration": 4,
    "start_time": "2023-05-08T05:33:07.980Z"
   },
   {
    "duration": 4,
    "start_time": "2023-05-08T05:33:13.308Z"
   },
   {
    "duration": 5,
    "start_time": "2023-05-08T05:33:14.849Z"
   },
   {
    "duration": 4,
    "start_time": "2023-05-08T05:33:16.596Z"
   },
   {
    "duration": 3,
    "start_time": "2023-05-08T05:33:20.737Z"
   },
   {
    "duration": 4,
    "start_time": "2023-05-08T05:34:14.074Z"
   },
   {
    "duration": 1017,
    "start_time": "2023-05-08T05:44:29.378Z"
   },
   {
    "duration": 13,
    "start_time": "2023-05-08T05:55:41.284Z"
   },
   {
    "duration": 8,
    "start_time": "2023-05-08T05:56:35.461Z"
   },
   {
    "duration": 23,
    "start_time": "2023-05-08T05:56:53.455Z"
   },
   {
    "duration": 5,
    "start_time": "2023-05-08T05:59:42.062Z"
   },
   {
    "duration": 207,
    "start_time": "2023-05-08T05:59:44.153Z"
   },
   {
    "duration": 15,
    "start_time": "2023-05-08T05:59:45.907Z"
   },
   {
    "duration": 14,
    "start_time": "2023-05-08T06:00:10.899Z"
   },
   {
    "duration": 39,
    "start_time": "2023-05-08T06:00:13.573Z"
   },
   {
    "duration": 7,
    "start_time": "2023-05-08T06:00:15.385Z"
   },
   {
    "duration": 7,
    "start_time": "2023-05-08T06:00:35.961Z"
   },
   {
    "duration": 7,
    "start_time": "2023-05-08T06:00:39.860Z"
   },
   {
    "duration": 9,
    "start_time": "2023-05-08T06:00:49.044Z"
   },
   {
    "duration": 11,
    "start_time": "2023-05-08T06:00:54.083Z"
   },
   {
    "duration": 5,
    "start_time": "2023-05-08T06:01:16.317Z"
   },
   {
    "duration": 4,
    "start_time": "2023-05-08T06:01:18.427Z"
   },
   {
    "duration": 10,
    "start_time": "2023-05-08T06:01:30.964Z"
   },
   {
    "duration": 11,
    "start_time": "2023-05-08T06:01:39.024Z"
   },
   {
    "duration": 11,
    "start_time": "2023-05-08T06:01:53.827Z"
   },
   {
    "duration": 15,
    "start_time": "2023-05-08T06:01:54.383Z"
   },
   {
    "duration": 12,
    "start_time": "2023-05-08T06:02:00.956Z"
   },
   {
    "duration": 11,
    "start_time": "2023-05-08T06:02:02.355Z"
   },
   {
    "duration": 14,
    "start_time": "2023-05-08T06:02:03.643Z"
   },
   {
    "duration": 15,
    "start_time": "2023-05-08T06:02:04.473Z"
   },
   {
    "duration": 3,
    "start_time": "2023-05-08T06:02:06.245Z"
   },
   {
    "duration": 4,
    "start_time": "2023-05-08T06:02:07.125Z"
   },
   {
    "duration": 3,
    "start_time": "2023-05-08T06:02:07.901Z"
   },
   {
    "duration": 3,
    "start_time": "2023-05-08T06:02:08.638Z"
   },
   {
    "duration": 4,
    "start_time": "2023-05-08T06:02:09.333Z"
   },
   {
    "duration": 4,
    "start_time": "2023-05-08T06:02:09.951Z"
   },
   {
    "duration": 1333,
    "start_time": "2023-05-08T06:02:15.653Z"
   },
   {
    "duration": 105,
    "start_time": "2023-05-08T06:02:19.859Z"
   },
   {
    "duration": 4,
    "start_time": "2023-05-08T06:02:22.403Z"
   },
   {
    "duration": 139,
    "start_time": "2023-05-08T06:02:35.347Z"
   },
   {
    "duration": 60737,
    "start_time": "2023-05-08T06:02:42.658Z"
   },
   {
    "duration": 65619,
    "start_time": "2023-05-08T06:14:24.954Z"
   },
   {
    "duration": 65312,
    "start_time": "2023-05-08T06:18:19.289Z"
   },
   {
    "duration": 64944,
    "start_time": "2023-05-08T06:19:38.245Z"
   },
   {
    "duration": 18,
    "start_time": "2023-05-08T06:23:06.171Z"
   },
   {
    "duration": 9,
    "start_time": "2023-05-08T06:23:06.646Z"
   },
   {
    "duration": 18,
    "start_time": "2023-05-08T06:24:23.372Z"
   },
   {
    "duration": 9,
    "start_time": "2023-05-08T06:24:24.808Z"
   },
   {
    "duration": 64578,
    "start_time": "2023-05-08T06:32:23.212Z"
   },
   {
    "duration": 64562,
    "start_time": "2023-05-08T06:33:34.242Z"
   },
   {
    "duration": 18,
    "start_time": "2023-05-08T06:34:50.477Z"
   },
   {
    "duration": 9,
    "start_time": "2023-05-08T06:34:50.597Z"
   },
   {
    "duration": 24,
    "start_time": "2023-05-08T06:38:28.016Z"
   },
   {
    "duration": 21,
    "start_time": "2023-05-08T06:38:46.281Z"
   },
   {
    "duration": 252782,
    "start_time": "2023-05-08T06:39:15.755Z"
   },
   {
    "duration": 1090,
    "start_time": "2023-05-08T06:44:22.844Z"
   },
   {
    "duration": 10,
    "start_time": "2023-05-08T06:44:25.231Z"
   },
   {
    "duration": 26,
    "start_time": "2023-05-08T06:44:40.897Z"
   },
   {
    "duration": 9,
    "start_time": "2023-05-08T06:44:42.577Z"
   },
   {
    "duration": 119,
    "start_time": "2023-05-08T06:45:42.508Z"
   },
   {
    "duration": 457,
    "start_time": "2023-05-08T06:45:48.284Z"
   },
   {
    "duration": 328,
    "start_time": "2023-05-08T06:45:48.743Z"
   },
   {
    "duration": 66223,
    "start_time": "2023-05-08T06:53:04.297Z"
   },
   {
    "duration": 74519,
    "start_time": "2023-05-08T06:56:04.075Z"
   },
   {
    "duration": 20,
    "start_time": "2023-05-08T06:57:53.399Z"
   },
   {
    "duration": 9,
    "start_time": "2023-05-08T06:57:54.518Z"
   },
   {
    "duration": 254113,
    "start_time": "2023-05-08T06:58:51.644Z"
   },
   {
    "duration": 4377,
    "start_time": "2023-05-08T07:03:17.130Z"
   },
   {
    "duration": 10,
    "start_time": "2023-05-08T07:03:21.508Z"
   },
   {
    "duration": 51,
    "start_time": "2023-05-08T07:03:45.489Z"
   },
   {
    "duration": 13,
    "start_time": "2023-05-08T07:04:08.767Z"
   },
   {
    "duration": 45355,
    "start_time": "2023-05-08T07:04:21.499Z"
   },
   {
    "duration": 20,
    "start_time": "2023-05-08T07:05:12.177Z"
   },
   {
    "duration": 154925,
    "start_time": "2023-05-08T07:06:13.855Z"
   },
   {
    "duration": 3189,
    "start_time": "2023-05-08T07:09:52.351Z"
   },
   {
    "duration": 40,
    "start_time": "2023-05-08T07:10:55.609Z"
   },
   {
    "duration": 14,
    "start_time": "2023-05-08T07:11:07.864Z"
   },
   {
    "duration": 15,
    "start_time": "2023-05-08T07:12:02.540Z"
   },
   {
    "duration": 13,
    "start_time": "2023-05-08T07:12:16.906Z"
   },
   {
    "duration": 98738,
    "start_time": "2023-05-08T07:12:22.763Z"
   },
   {
    "duration": 1237,
    "start_time": "2023-05-08T07:17:08.844Z"
   },
   {
    "duration": 100,
    "start_time": "2023-05-08T07:17:17.634Z"
   },
   {
    "duration": 13,
    "start_time": "2023-05-08T07:17:24.932Z"
   },
   {
    "duration": 29,
    "start_time": "2023-05-08T07:17:41.430Z"
   },
   {
    "duration": 346100,
    "start_time": "2023-05-08T07:18:13.038Z"
   },
   {
    "duration": 1065,
    "start_time": "2023-05-08T07:24:05.708Z"
   },
   {
    "duration": 124,
    "start_time": "2023-05-08T07:24:13.011Z"
   },
   {
    "duration": 11,
    "start_time": "2023-05-08T08:03:11.785Z"
   },
   {
    "duration": 2,
    "start_time": "2023-05-08T08:07:38.084Z"
   },
   {
    "duration": 3,
    "start_time": "2023-05-08T08:07:48.014Z"
   },
   {
    "duration": 10,
    "start_time": "2023-05-08T08:07:51.203Z"
   },
   {
    "duration": 256154,
    "start_time": "2023-05-08T08:13:34.367Z"
   },
   {
    "duration": 255084,
    "start_time": "2023-05-08T08:18:03.196Z"
   },
   {
    "duration": 4410,
    "start_time": "2023-05-08T08:25:04.578Z"
   },
   {
    "duration": 5062,
    "start_time": "2023-05-08T08:26:52.358Z"
   },
   {
    "duration": 15,
    "start_time": "2023-05-08T08:29:23.454Z"
   },
   {
    "duration": 116,
    "start_time": "2023-05-08T08:29:31.422Z"
   },
   {
    "duration": 4,
    "start_time": "2023-05-08T08:29:41.443Z"
   },
   {
    "duration": 8,
    "start_time": "2023-05-08T08:30:12.881Z"
   },
   {
    "duration": 4,
    "start_time": "2023-05-08T08:44:48.273Z"
   },
   {
    "duration": 4,
    "start_time": "2023-05-08T08:44:49.116Z"
   },
   {
    "duration": 3,
    "start_time": "2023-05-08T08:44:49.710Z"
   },
   {
    "duration": 3,
    "start_time": "2023-05-08T08:44:50.212Z"
   },
   {
    "duration": 4,
    "start_time": "2023-05-08T08:44:53.146Z"
   },
   {
    "duration": 20,
    "start_time": "2023-05-08T08:45:25.051Z"
   },
   {
    "duration": 11,
    "start_time": "2023-05-08T08:45:26.599Z"
   },
   {
    "duration": 10,
    "start_time": "2023-05-08T08:45:37.303Z"
   },
   {
    "duration": 27,
    "start_time": "2023-05-08T08:45:43.820Z"
   },
   {
    "duration": 11,
    "start_time": "2023-05-08T08:45:46.655Z"
   }
  ],
  "kernelspec": {
   "display_name": "Python 3 (ipykernel)",
   "language": "python",
   "name": "python3"
  },
  "language_info": {
   "codemirror_mode": {
    "name": "ipython",
    "version": 3
   },
   "file_extension": ".py",
   "mimetype": "text/x-python",
   "name": "python",
   "nbconvert_exporter": "python",
   "pygments_lexer": "ipython3",
   "version": "3.9.13"
  },
  "toc": {
   "base_numbering": 1,
   "nav_menu": {},
   "number_sections": true,
   "sideBar": true,
   "skip_h1_title": true,
   "title_cell": "Содержание",
   "title_sidebar": "Contents",
   "toc_cell": true,
   "toc_position": {},
   "toc_section_display": true,
   "toc_window_display": true
  }
 },
 "nbformat": 4,
 "nbformat_minor": 2
}
